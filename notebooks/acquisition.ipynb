{
 "cells": [
  {
   "cell_type": "markdown",
   "metadata": {},
   "source": [
    "# Acquire README's from Github"
   ]
  },
  {
   "cell_type": "code",
   "execution_count": 1,
   "metadata": {},
   "outputs": [],
   "source": [
    "import pandas as pd\n",
    "import numpy as np\n",
    "from requests import get\n",
    "import os\n",
    "from bs4 import BeautifulSoup\n",
    "\n",
    "import acquire"
   ]
  },
  {
   "cell_type": "markdown",
   "metadata": {},
   "source": [
    "First we'll acquire a list of repositories with the topics:\n",
    "- Sports\n",
    "- Data Engineering\n",
    "- Artificial Intelligence\n",
    "- Space Exploration\n",
    "- Biology\n",
    "\n",
    "Each written in:\n",
    "- JavaScript\n",
    "- Python\n",
    "- Java\n",
    "- C++\n"
   ]
  },
  {
   "cell_type": "code",
   "execution_count": 3,
   "metadata": {},
   "outputs": [
    {
     "name": "stdout",
     "output_type": "stream",
     "text": [
      "There are 20 unique search topics\n"
     ]
    },
    {
     "data": {
      "text/plain": [
       "['https://github.com/search?l=JavaScript&q=sports&type=Repositories',\n",
       " 'https://github.com/search?l=JavaScript&q=data+engineering&type=Repositories',\n",
       " 'https://github.com/search?l=JavaScript&q=artificial+intelligence&type=Repositories',\n",
       " 'https://github.com/search?l=JavaScript&q=space+exploration&type=Repositories',\n",
       " 'https://github.com/search?l=JavaScript&q=biology&type=Repositories',\n",
       " 'https://github.com/search?l=Python&q=sports&type=Repositories',\n",
       " 'https://github.com/search?l=Python&q=data+engineering&type=Repositories',\n",
       " 'https://github.com/search?l=Python&q=artificial+intelligence&type=Repositories',\n",
       " 'https://github.com/search?l=Python&q=space+exploration&type=Repositories',\n",
       " 'https://github.com/search?l=Python&q=biology&type=Repositories',\n",
       " 'https://github.com/search?l=Java&q=sports&type=Repositories',\n",
       " 'https://github.com/search?l=Java&q=data+engineering&type=Repositories',\n",
       " 'https://github.com/search?l=Java&q=artificial+intelligence&type=Repositories',\n",
       " 'https://github.com/search?l=Java&q=space+exploration&type=Repositories',\n",
       " 'https://github.com/search?l=Java&q=biology&type=Repositories',\n",
       " 'https://github.com/search?l=C%2B%2B&q=sports&type=Repositories',\n",
       " 'https://github.com/search?l=C%2B%2B&q=data+engineering&type=Repositories',\n",
       " 'https://github.com/search?l=C%2B%2B&q=artificial+intelligence&type=Repositories',\n",
       " 'https://github.com/search?l=C%2B%2B&q=space+exploration&type=Repositories',\n",
       " 'https://github.com/search?l=C%2B%2B&q=biology&type=Repositories']"
      ]
     },
     "execution_count": 3,
     "metadata": {},
     "output_type": "execute_result"
    }
   ],
   "source": [
    "print(f'There are {len(pages)} unique search topics')\n",
    "pages"
   ]
  },
  {
   "cell_type": "code",
   "execution_count": 4,
   "metadata": {},
   "outputs": [],
   "source": [
    "repository_links = acquire.get_url_links(pages)"
   ]
  },
  {
   "cell_type": "code",
   "execution_count": 5,
   "metadata": {
    "scrolled": true
   },
   "outputs": [
    {
     "data": {
      "text/plain": [
       "'http://github.com/freeCodeCamp/league-for-good'"
      ]
     },
     "execution_count": 5,
     "metadata": {},
     "output_type": "execute_result"
    }
   ],
   "source": [
    "repository_links[0]"
   ]
  },
  {
   "cell_type": "code",
   "execution_count": 10,
   "metadata": {
    "scrolled": false
   },
   "outputs": [
    {
     "name": "stdout",
     "output_type": "stream",
     "text": [
      "1\n",
      "2\n",
      "3\n",
      "4\n",
      "5\n",
      "6\n",
      "7\n",
      "8\n",
      "9\n",
      "10\n",
      "11\n",
      "12\n",
      "13\n",
      "14\n",
      "15\n",
      "16\n",
      "17\n",
      "18\n",
      "19\n",
      "20\n",
      "21\n",
      "22\n",
      "23\n",
      "24\n",
      "25\n",
      "26\n",
      "27\n",
      "28\n",
      "29\n",
      "30\n",
      "31\n",
      "32\n",
      "33\n",
      "34\n",
      "35\n",
      "36\n",
      "37\n",
      "38\n",
      "39\n",
      "40\n",
      "41\n",
      "42\n",
      "43\n",
      "44\n",
      "45\n",
      "46\n",
      "47\n",
      "48\n",
      "49\n",
      "50\n",
      "51\n",
      "52\n",
      "53\n",
      "54\n",
      "55\n",
      "56\n",
      "57\n",
      "58\n",
      "59\n",
      "60\n",
      "61\n",
      "62\n",
      "63\n",
      "64\n",
      "65\n",
      "66\n",
      "67\n",
      "68\n",
      "69\n",
      "70\n",
      "71\n",
      "72\n",
      "73\n",
      "74\n",
      "75\n",
      "76\n",
      "77\n",
      "78\n",
      "79\n",
      "80\n",
      "81\n",
      "82\n",
      "83\n",
      "84\n",
      "85\n",
      "86\n",
      "87\n",
      "88\n",
      "89\n",
      "90\n"
     ]
    }
   ],
   "source": [
    "data = acquire.scrape_repos(repository_links)"
   ]
  },
  {
   "cell_type": "code",
   "execution_count": null,
   "metadata": {},
   "outputs": [],
   "source": []
  }
 ],
 "metadata": {
  "kernelspec": {
   "display_name": "Python 3",
   "language": "python",
   "name": "python3"
  },
  "language_info": {
   "codemirror_mode": {
    "name": "ipython",
    "version": 3
   },
   "file_extension": ".py",
   "mimetype": "text/x-python",
   "name": "python",
   "nbconvert_exporter": "python",
   "pygments_lexer": "ipython3",
   "version": "3.7.9"
  }
 },
 "nbformat": 4,
 "nbformat_minor": 4
}
