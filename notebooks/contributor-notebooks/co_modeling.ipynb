{
 "cells": [
  {
   "cell_type": "markdown",
   "metadata": {},
   "source": [
    "# Modeling"
   ]
  },
  {
   "cell_type": "code",
   "execution_count": 1,
   "metadata": {},
   "outputs": [],
   "source": [
    "import pandas as pd\n",
    "import numpy as np\n",
    "\n",
    "\n",
    "from sklearn.feature_extraction.text import CountVectorizer\n",
    "\n",
    "from sklearn.model_selection import train_test_split, GridSearchCV\n",
    "from sklearn.preprocessing import MinMaxScaler\n",
    "\n",
    "from sklearn.linear_model import LogisticRegression, RidgeClassifierCV\n",
    "from sklearn.ensemble import GradientBoostingClassifier, RandomForestClassifier\n",
    "from sklearn.naive_bayes import GaussianNB\n",
    "from sklearn.svm import SVC\n",
    "\n",
    "from sklearn.metrics import classification_report, accuracy_score\n",
    "\n",
    "import main\n",
    "from prepare import prep_readme_data\n",
    "from model import model_data"
   ]
  },
  {
   "cell_type": "markdown",
   "metadata": {},
   "source": [
    "## Read in the dataset"
   ]
  },
  {
   "cell_type": "code",
   "execution_count": 4,
   "metadata": {},
   "outputs": [
    {
     "name": "stderr",
     "output_type": "stream",
     "text": [
      "/usr/local/anaconda3/lib/python3.7/site-packages/pandas/core/frame.py:4169: SettingWithCopyWarning: \n",
      "A value is trying to be set on a copy of a slice from a DataFrame\n",
      "\n",
      "See the caveats in the documentation: https://pandas.pydata.org/pandas-docs/stable/user_guide/indexing.html#returning-a-view-versus-a-copy\n",
      "  errors=errors,\n"
     ]
    }
   ],
   "source": [
    "X_train, y_train, X_validate, y_validate, X_test, y_test = model_data()"
   ]
  },
  {
   "cell_type": "markdown",
   "metadata": {},
   "source": [
    "## Transform text data using TF-IDF"
   ]
  },
  {
   "cell_type": "markdown",
   "metadata": {},
   "source": [
    "## Split the data"
   ]
  },
  {
   "cell_type": "code",
   "execution_count": null,
   "metadata": {},
   "outputs": [],
   "source": [
    "print(X_train.shape)\n",
    "print(y_train.shape)\n",
    "print(X_validate.shape)\n",
    "print(y_validate.shape)\n",
    "print(X_test.shape)\n",
    "print(y_test.shape)"
   ]
  },
  {
<<<<<<< HEAD
=======
   "cell_type": "code",
   "execution_count": 8,
   "metadata": {},
   "outputs": [],
   "source": [
    "def scale_numeric_columns(X_train, X_validate, X_test):\n",
    "    scaler = MinMaxScaler()\n",
    "\n",
    "    # Concatenate scaled test data onto sparse matrix\n",
    "    X_train_scaled = pd.DataFrame(scaler.fit_transform(X_train[['watchers_num', 'stars_num',\n",
    "                                                                'forks_num', 'commits_num']]))\n",
    "    X_train_scaled.rename(columns={0: 'watchers_num',\n",
    "                                   1: 'stars_num',\n",
    "                                   2: 'forks_num',\n",
    "                                   3: 'commits_num'},\n",
    "                         inplace=True)\n",
    "\n",
    "    X_train_scaled.index = X_train.index\n",
    "    X_train.drop(columns=['watchers_num', 'stars_num', 'forks_num', 'commits_num'], inplace=True)\n",
    "    X_train = pd.concat([X_train, X_train_scaled], axis=1)\n",
    "    \n",
    "\n",
    "    # Concatenate scaled test data onto sparse matrix\n",
    "    X_validate_scaled = pd.DataFrame(scaler.transform(X_validate[['watchers_num', 'stars_num',\n",
    "                                                            'forks_num', 'commits_num']]))\n",
    "    X_validate_scaled.rename(columns={0: 'watchers_num',\n",
    "                                   1: 'stars_num',\n",
    "                                   2: 'forks_num',\n",
    "                                   3: 'commits_num'},\n",
    "                         inplace=True)\n",
    "    \n",
    "    X_validate_scaled.index = X_validate.index\n",
    "    X_validate.drop(columns=['watchers_num', 'stars_num', 'forks_num', 'commits_num'], inplace=True)\n",
    "    X_validate = pd.concat([X_validate, X_validate_scaled], axis=1)\n",
    "    \n",
    "    \n",
    "    \n",
    "    # Concatenate scaled test data onto sparse matrix\n",
    "    X_test_scaled = pd.DataFrame(scaler.transform(X_test[['watchers_num', 'stars_num',\n",
    "                                                          'forks_num', 'commits_num']]))\n",
    "    \n",
    "    X_test_scaled.rename(columns={0: 'watchers_num',\n",
    "                                  1: 'stars_num',\n",
    "                                  2: 'forks_num',\n",
    "                                  3: 'commits_num'},\n",
    "                         inplace=True)\n",
    "\n",
    "    X_test_scaled.index = X_test.index\n",
    "    X_test.drop(columns=['watchers_num', 'stars_num', 'forks_num', 'commits_num'], inplace=True)\n",
    "    X_test = pd.concat([X_test, X_test_scaled], axis=1)\n",
    "    \n",
    "    return X_train, X_validate, X_test\n"
   ]
  },
  {
   "cell_type": "code",
   "execution_count": 9,
   "metadata": {},
   "outputs": [
    {
     "name": "stderr",
     "output_type": "stream",
     "text": [
      "C:\\Users\\chris\\anaconda3\\lib\\site-packages\\pandas\\core\\frame.py:4167: SettingWithCopyWarning: \n",
      "A value is trying to be set on a copy of a slice from a DataFrame\n",
      "\n",
      "See the caveats in the documentation: https://pandas.pydata.org/pandas-docs/stable/user_guide/indexing.html#returning-a-view-versus-a-copy\n",
      "  return super().drop(\n",
      "C:\\Users\\chris\\anaconda3\\lib\\site-packages\\pandas\\core\\frame.py:4167: SettingWithCopyWarning: \n",
      "A value is trying to be set on a copy of a slice from a DataFrame\n",
      "\n",
      "See the caveats in the documentation: https://pandas.pydata.org/pandas-docs/stable/user_guide/indexing.html#returning-a-view-versus-a-copy\n",
      "  return super().drop(\n",
      "C:\\Users\\chris\\anaconda3\\lib\\site-packages\\pandas\\core\\frame.py:4167: SettingWithCopyWarning: \n",
      "A value is trying to be set on a copy of a slice from a DataFrame\n",
      "\n",
      "See the caveats in the documentation: https://pandas.pydata.org/pandas-docs/stable/user_guide/indexing.html#returning-a-view-versus-a-copy\n",
      "  return super().drop(\n"
     ]
    }
   ],
   "source": [
    "X_train, X_validate, X_test = scale_numeric_columns(X_train, X_validate, X_test)"
   ]
  },
  {
>>>>>>> eb31d4c0903918e56698d1d3b7b6d479b648e38d
   "cell_type": "markdown",
   "metadata": {},
   "source": [
    "## Train set"
   ]
  },
  {
   "cell_type": "markdown",
   "metadata": {},
   "source": [
    "### Cross Validation"
   ]
  },
  {
   "cell_type": "code",
   "execution_count": null,
   "metadata": {},
   "outputs": [],
   "source": [
    "logit_params = {'C': [0.001, 0.01, 0.1, 1, 10, 100]}\n",
    "\n",
    "svm_params = {'C': [0.001, 0.01, 0.1, 1, 10, 100],\n",
    "              'gamma': [0.001, 0.01, 0.1, 1, 10, 100]}\n",
    "\n",
    "boost_params = {'learning_rate': [0.0001, 0.001, 0.01, 0.1]}"
   ]
  },
  {
   "cell_type": "markdown",
   "metadata": {},
   "source": [
    "### Logistic Regression"
   ]
  },
  {
   "cell_type": "code",
   "execution_count": null,
   "metadata": {},
<<<<<<< HEAD
   "outputs": [],
=======
   "outputs": [
    {
     "data": {
      "text/plain": [
       "0.9915014164305949"
      ]
     },
     "execution_count": 11,
     "metadata": {},
     "output_type": "execute_result"
    }
   ],
>>>>>>> eb31d4c0903918e56698d1d3b7b6d479b648e38d
   "source": [
    "logit_grid_search = GridSearchCV(LogisticRegression(), logit_params, cv=5)\n",
    "\n",
    "logit_grid_search.fit(X_train, y_train)\n",
    "logit_grid_search.score(X_train, y_train)"
   ]
  },
  {
   "cell_type": "code",
   "execution_count": null,
   "metadata": {},
   "outputs": [],
   "source": [
    "logit_grid_search.best_estimator_"
   ]
  },
  {
   "cell_type": "markdown",
   "metadata": {},
   "source": [
    "### Support Vector Classifier"
   ]
  },
  {
   "cell_type": "code",
   "execution_count": null,
   "metadata": {
    "scrolled": false
   },
   "outputs": [
    {
     "data": {
      "text/plain": [
       "0.9943342776203966"
      ]
     },
     "execution_count": 13,
     "metadata": {},
     "output_type": "execute_result"
    }
   ],
   "source": [
    "svm_grid_search = GridSearchCV(SVC(), svm_params, cv=5)\n",
    "svm_grid_search.fit(X_train, y_train)\n",
    "\n",
    "svm_grid_search.score(X_train, y_train)"
   ]
  },
  {
   "cell_type": "code",
   "execution_count": null,
   "metadata": {},
   "outputs": [
    {
     "data": {
      "text/plain": [
       "SVC(C=10, gamma=0.1)"
      ]
     },
     "execution_count": 14,
     "metadata": {},
     "output_type": "execute_result"
    }
   ],
   "source": [
    "svm_grid_search.best_estimator_"
   ]
  },
  {
   "cell_type": "markdown",
   "metadata": {},
   "source": [
    "### Naive Bayes"
   ]
  },
  {
   "cell_type": "code",
   "execution_count": null,
   "metadata": {},
<<<<<<< HEAD
   "outputs": [],
=======
   "outputs": [
    {
     "data": {
      "text/plain": [
       "0.9943342776203966"
      ]
     },
     "execution_count": 15,
     "metadata": {},
     "output_type": "execute_result"
    }
   ],
>>>>>>> eb31d4c0903918e56698d1d3b7b6d479b648e38d
   "source": [
    "gaus = GaussianNB()\n",
    "gaus.fit(X_train, y_train)\n",
    "gaus.score(X_train, y_train)"
   ]
  },
  {
   "cell_type": "markdown",
   "metadata": {},
   "source": [
    "### Ridge Classifier"
   ]
  },
  {
   "cell_type": "code",
   "execution_count": null,
   "metadata": {},
<<<<<<< HEAD
   "outputs": [],
=======
   "outputs": [
    {
     "data": {
      "text/plain": [
       "0.9971671388101983"
      ]
     },
     "execution_count": 16,
     "metadata": {},
     "output_type": "execute_result"
    }
   ],
>>>>>>> eb31d4c0903918e56698d1d3b7b6d479b648e38d
   "source": [
    "clf = RidgeClassifierCV()\n",
    "clf.fit(X_train, y_train)\n",
    "clf.score(X_train, y_train)"
   ]
  },
  {
   "cell_type": "markdown",
   "metadata": {},
   "source": [
    "### Gradient Boost"
   ]
  },
  {
   "cell_type": "code",
   "execution_count": null,
   "metadata": {},
   "outputs": [
    {
     "data": {
      "text/plain": [
       "0.9971671388101983"
      ]
     },
     "execution_count": 17,
     "metadata": {},
     "output_type": "execute_result"
    }
   ],
   "source": [
    "boost_grid_search = GridSearchCV(GradientBoostingClassifier(), boost_params, cv=5)\n",
    "boost_grid_search.fit(X_train, y_train)\n",
    "\n",
    "boost_grid_search.score(X_train, y_train)"
   ]
  },
  {
   "cell_type": "code",
   "execution_count": null,
   "metadata": {},
   "outputs": [
    {
     "data": {
      "text/plain": [
       "{'learning_rate': 0.1}"
      ]
     },
     "execution_count": 18,
     "metadata": {},
     "output_type": "execute_result"
    }
   ],
   "source": [
    "boost_grid_search.best_params_"
   ]
  },
  {
   "cell_type": "markdown",
   "metadata": {},
   "source": [
    "### Random Forest"
   ]
  },
  {
   "cell_type": "code",
<<<<<<< HEAD
   "execution_count": null,
   "metadata": {},
   "outputs": [],
=======
   "execution_count": 24,
   "metadata": {},
   "outputs": [
    {
     "data": {
      "text/plain": [
       "1.0"
      ]
     },
     "execution_count": 24,
     "metadata": {},
     "output_type": "execute_result"
    }
   ],
>>>>>>> eb31d4c0903918e56698d1d3b7b6d479b648e38d
   "source": [
    "tree = RandomForestClassifier()\n",
    "tree.fit(X_train, y_train)\n",
    "tree.score(X_train, y_train)"
   ]
  },
  {
   "cell_type": "markdown",
   "metadata": {},
   "source": [
    "## Test Set"
   ]
  },
  {
   "cell_type": "code",
   "execution_count": null,
   "metadata": {},
   "outputs": [],
   "source": [
    "train = pd.DataFrame(dict(actual=y_train))\n",
    "validate = pd.DataFrame(dict(actual=y_validate))\n",
    "test = pd.DataFrame(dict(actual=y_test))\n",
    "\n",
    "grad = GradientBoostingClassifier().fit(X_train, y_train)\n",
    "\n",
    "train['predicted'] = grad.predict(X_train)\n",
    "validate['predicted'] = grad.predict(X_validate)\n",
    "test['predicted'] = grad.predict(X_test)"
   ]
  },
  {
   "cell_type": "markdown",
   "metadata": {},
   "source": [
    "# Evaluate"
   ]
  },
  {
   "cell_type": "code",
<<<<<<< HEAD
   "execution_count": null,
   "metadata": {
    "scrolled": false
   },
   "outputs": [],
=======
   "execution_count": 21,
   "metadata": {},
   "outputs": [
    {
     "name": "stdout",
     "output_type": "stream",
     "text": [
      "Accuracy: 99.72%\n",
      "---\n",
      "Confusion Matrix\n",
      "actual      C++  Java  JavaScript  Python\n",
      "predicted                                \n",
      "C++          90     0           0       0\n",
      "Java          0    87           0       1\n",
      "JavaScript    0     0          91       0\n",
      "Python        0     0           0      84\n",
      "---\n",
      "              precision    recall  f1-score   support\n",
      "\n",
      "         C++       1.00      1.00      1.00        90\n",
      "        Java       0.99      1.00      0.99        87\n",
      "  JavaScript       1.00      1.00      1.00        91\n",
      "      Python       1.00      0.99      0.99        85\n",
      "\n",
      "    accuracy                           1.00       353\n",
      "   macro avg       1.00      1.00      1.00       353\n",
      "weighted avg       1.00      1.00      1.00       353\n",
      "\n"
     ]
    }
   ],
>>>>>>> eb31d4c0903918e56698d1d3b7b6d479b648e38d
   "source": [
    "print('Accuracy: {:.2%}'.format(accuracy_score(train.actual, train.predicted)))\n",
    "print('---')\n",
    "print('Confusion Matrix')\n",
    "print(pd.crosstab(train.predicted, train.actual))\n",
    "print('---')\n",
    "print(classification_report(train.actual, train.predicted))"
   ]
  },
  {
   "cell_type": "code",
   "execution_count": null,
   "metadata": {},
<<<<<<< HEAD
   "outputs": [],
=======
   "outputs": [
    {
     "name": "stdout",
     "output_type": "stream",
     "text": [
      "Accuracy: 77.97%\n",
      "---\n",
      "Confusion Matrix\n",
      "actual      C++  Java  JavaScript  Python\n",
      "predicted                                \n",
      "C++          22     4           5       3\n",
      "Java          4    22           1       1\n",
      "JavaScript    3     2          24       0\n",
      "Python        1     1           1      24\n",
      "---\n",
      "              precision    recall  f1-score   support\n",
      "\n",
      "         C++       0.65      0.73      0.69        30\n",
      "        Java       0.79      0.76      0.77        29\n",
      "  JavaScript       0.83      0.77      0.80        31\n",
      "      Python       0.89      0.86      0.87        28\n",
      "\n",
      "    accuracy                           0.78       118\n",
      "   macro avg       0.79      0.78      0.78       118\n",
      "weighted avg       0.79      0.78      0.78       118\n",
      "\n"
     ]
    }
   ],
>>>>>>> eb31d4c0903918e56698d1d3b7b6d479b648e38d
   "source": [
    "print('Accuracy: {:.2%}'.format(accuracy_score(validate.actual, validate.predicted)))\n",
    "print('---')\n",
    "print('Confusion Matrix')\n",
    "print(pd.crosstab(validate.predicted, validate.actual))\n",
    "print('---')\n",
    "print(classification_report(validate.actual, validate.predicted))"
   ]
  },
  {
   "cell_type": "code",
   "execution_count": null,
   "metadata": {},
<<<<<<< HEAD
   "outputs": [],
=======
   "outputs": [
    {
     "name": "stdout",
     "output_type": "stream",
     "text": [
      "Accuracy: 76.27%\n",
      "---\n",
      "Confusion Matrix\n",
      "actual      C++  Java  JavaScript  Python\n",
      "predicted                                \n",
      "C++          22     3           3       1\n",
      "Java          2    21           0       1\n",
      "JavaScript    3     4          25       4\n",
      "Python        3     1           3      22\n",
      "---\n",
      "              precision    recall  f1-score   support\n",
      "\n",
      "         C++       0.76      0.73      0.75        30\n",
      "        Java       0.88      0.72      0.79        29\n",
      "  JavaScript       0.69      0.81      0.75        31\n",
      "      Python       0.76      0.79      0.77        28\n",
      "\n",
      "    accuracy                           0.76       118\n",
      "   macro avg       0.77      0.76      0.76       118\n",
      "weighted avg       0.77      0.76      0.76       118\n",
      "\n"
     ]
    }
   ],
>>>>>>> eb31d4c0903918e56698d1d3b7b6d479b648e38d
   "source": [
    "print('Accuracy: {:.2%}'.format(accuracy_score(test.actual, test.predicted)))\n",
    "print('---')\n",
    "print('Confusion Matrix')\n",
    "print(pd.crosstab(test.predicted, test.actual))\n",
    "print('---')\n",
    "print(classification_report(test.actual, test.predicted))"
   ]
  }
 ],
 "metadata": {
  "kernelspec": {
   "display_name": "Python 3",
   "language": "python",
   "name": "python3"
  },
  "language_info": {
   "codemirror_mode": {
    "name": "ipython",
    "version": 3
   },
   "file_extension": ".py",
   "mimetype": "text/x-python",
   "name": "python",
   "nbconvert_exporter": "python",
   "pygments_lexer": "ipython3",
   "version": "3.8.6"
  }
 },
 "nbformat": 4,
 "nbformat_minor": 4
}
