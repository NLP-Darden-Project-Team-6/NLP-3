{
 "cells": [
  {
   "cell_type": "code",
   "execution_count": 2,
   "metadata": {},
   "outputs": [],
   "source": [
    "import pandas as pd\n",
    "import numpy as np\n",
    "from requests import get\n",
    "import os\n",
    "from bs4 import BeautifulSoup\n",
    "\n",
    "import acquire"
   ]
  },
  {
   "cell_type": "code",
   "execution_count": null,
   "metadata": {},
   "outputs": [],
   "source": [
    "# create a list of urls using a list of topics\n",
    "pages = acquire.get_url_pages()"
   ]
  },
  {
   "cell_type": "code",
   "execution_count": null,
   "metadata": {},
   "outputs": [],
   "source": [
    "print(f'There are {len(pages)} unique search topics')\n",
    "pages"
   ]
  },
  {
   "cell_type": "code",
   "execution_count": null,
   "metadata": {},
   "outputs": [],
   "source": [
    "repository_links = acquire.get_url_links(pages)"
   ]
  },
  {
   "cell_type": "code",
   "execution_count": null,
   "metadata": {},
   "outputs": [],
   "source": [
    "repository_links[0]"
   ]
  },
  {
   "cell_type": "code",
   "execution_count": null,
   "metadata": {},
   "outputs": [],
   "source": [
    "repo_soup = acquire.make_soup(repository_links[0])\n",
    "\n",
    "for sentence in repo_soup.findAll(class_=\"markdown-body entry-content container-lg\"):\n",
    "    readme = ''.join(sentence.findAll(text=True))"
   ]
  },
  {
   "cell_type": "code",
   "execution_count": null,
   "metadata": {},
   "outputs": [],
   "source": [
    "language = repo_soup.find('span', class_=\"Progress-item\", itemprop='keywords', attrs='aria-label')['aria-label']\n",
    "repo_info = {'language' : language,\n",
    "              'readme': readme}"
   ]
  },
  {
   "cell_type": "code",
   "execution_count": null,
   "metadata": {},
   "outputs": [],
   "source": [
    "data = acquire.scrape_repos(repository_links)"
   ]
  },
  {
   "cell_type": "code",
   "execution_count": null,
   "metadata": {},
   "outputs": [],
   "source": [
    "import json\n",
    "json.loads(json.dumps(data))"
   ]
  },
  {
   "cell_type": "code",
   "execution_count": null,
   "metadata": {},
   "outputs": [],
   "source": [
    "# #saving as a json file\n",
    "# with open('read_me.json', 'w') as file:\n",
    "#     json.dump(data, file)\n",
    "\n",
    "#can also use\n",
    "\n",
    "# df.to_json('articles.json')"
   ]
  },
  {
   "cell_type": "code",
   "execution_count": null,
   "metadata": {},
   "outputs": [],
   "source": []
  },
  {
   "cell_type": "code",
   "execution_count": 3,
   "metadata": {
    "scrolled": true
   },
   "outputs": [],
   "source": [
    "data = pd.read_json('readme_data.json')"
   ]
  },
  {
   "cell_type": "code",
   "execution_count": 4,
   "metadata": {},
   "outputs": [
    {
     "data": {
      "text/html": [
       "<div>\n",
       "<style scoped>\n",
       "    .dataframe tbody tr th:only-of-type {\n",
       "        vertical-align: middle;\n",
       "    }\n",
       "\n",
       "    .dataframe tbody tr th {\n",
       "        vertical-align: top;\n",
       "    }\n",
       "\n",
       "    .dataframe thead th {\n",
       "        text-align: right;\n",
       "    }\n",
       "</style>\n",
       "<table border=\"1\" class=\"dataframe\">\n",
       "  <thead>\n",
       "    <tr style=\"text-align: right;\">\n",
       "      <th></th>\n",
       "      <th>language</th>\n",
       "      <th>readme</th>\n",
       "    </tr>\n",
       "  </thead>\n",
       "  <tbody>\n",
       "    <tr>\n",
       "      <th>0</th>\n",
       "      <td>JavaScript 98.7</td>\n",
       "      <td>FCC League-For-Good\\nThis is a free, open-sour...</td>\n",
       "    </tr>\n",
       "    <tr>\n",
       "      <th>1</th>\n",
       "      <td>JavaScript 97.4</td>\n",
       "      <td>nba\\nNode.js client for nba.com API endpoints\\...</td>\n",
       "    </tr>\n",
       "    <tr>\n",
       "      <th>2</th>\n",
       "      <td>JavaScript 60.0</td>\n",
       "      <td>SportsLeague: Laravel 5.4 based system for var...</td>\n",
       "    </tr>\n",
       "    <tr>\n",
       "      <th>3</th>\n",
       "      <td>JavaScript 63.6</td>\n",
       "      <td>Team Colors\\n\\nTeam Colors is a reference of H...</td>\n",
       "    </tr>\n",
       "    <tr>\n",
       "      <th>4</th>\n",
       "      <td>JavaScript 39.3</td>\n",
       "      <td>vue-sports\\n\\nA Vue.js project\\n\\n仿凤凰新闻体育板块+赛事...</td>\n",
       "    </tr>\n",
       "    <tr>\n",
       "      <th>...</th>\n",
       "      <td>...</td>\n",
       "      <td>...</td>\n",
       "    </tr>\n",
       "    <tr>\n",
       "      <th>144</th>\n",
       "      <td>C++ 71.9</td>\n",
       "      <td>PhysiBoSS\\nMultiscale simulation of multi-cell...</td>\n",
       "    </tr>\n",
       "    <tr>\n",
       "      <th>145</th>\n",
       "      <td>C++ 77.9</td>\n",
       "      <td>PhysiBoSS\\nMultiscale simulation of multi-cell...</td>\n",
       "    </tr>\n",
       "    <tr>\n",
       "      <th>146</th>\n",
       "      <td>C++ 79.4</td>\n",
       "      <td>\\n\\n\\nCore Principles\\nThese are the core prin...</td>\n",
       "    </tr>\n",
       "    <tr>\n",
       "      <th>147</th>\n",
       "      <td>C++ 96.1</td>\n",
       "      <td>CATH Tools  \\nProtein structure comparison too...</td>\n",
       "    </tr>\n",
       "    <tr>\n",
       "      <th>148</th>\n",
       "      <td>C++ 98.2</td>\n",
       "      <td>skew-biology\\nSoftware for my DIY spectrometer...</td>\n",
       "    </tr>\n",
       "  </tbody>\n",
       "</table>\n",
       "<p>149 rows × 2 columns</p>\n",
       "</div>"
      ],
      "text/plain": [
       "            language                                             readme\n",
       "0    JavaScript 98.7  FCC League-For-Good\\nThis is a free, open-sour...\n",
       "1    JavaScript 97.4  nba\\nNode.js client for nba.com API endpoints\\...\n",
       "2    JavaScript 60.0  SportsLeague: Laravel 5.4 based system for var...\n",
       "3    JavaScript 63.6  Team Colors\\n\\nTeam Colors is a reference of H...\n",
       "4    JavaScript 39.3  vue-sports\\n\\nA Vue.js project\\n\\n仿凤凰新闻体育板块+赛事...\n",
       "..               ...                                                ...\n",
       "144         C++ 71.9  PhysiBoSS\\nMultiscale simulation of multi-cell...\n",
       "145         C++ 77.9  PhysiBoSS\\nMultiscale simulation of multi-cell...\n",
       "146         C++ 79.4  \\n\\n\\nCore Principles\\nThese are the core prin...\n",
       "147         C++ 96.1  CATH Tools  \\nProtein structure comparison too...\n",
       "148         C++ 98.2  skew-biology\\nSoftware for my DIY spectrometer...\n",
       "\n",
       "[149 rows x 2 columns]"
      ]
     },
     "execution_count": 4,
     "metadata": {},
     "output_type": "execute_result"
    }
   ],
   "source": [
    "data"
   ]
  },
  {
   "cell_type": "code",
   "execution_count": null,
   "metadata": {},
   "outputs": [],
   "source": [
    "import unicodedata\n",
    "import re\n",
    "\n",
    "import nltk\n",
    "from nltk.tokenize.toktok import ToktokTokenizer\n",
    "from nltk.corpus import stopwords"
   ]
  },
  {
   "cell_type": "code",
   "execution_count": null,
   "metadata": {},
   "outputs": [],
   "source": []
  },
  {
   "cell_type": "code",
   "execution_count": 5,
   "metadata": {},
   "outputs": [],
   "source": [
    "df = pd.DataFrame(data)"
   ]
  },
  {
   "cell_type": "code",
   "execution_count": null,
   "metadata": {},
   "outputs": [],
   "source": [
    "df.tail(50)"
   ]
  },
  {
   "cell_type": "code",
   "execution_count": null,
   "metadata": {},
   "outputs": [],
   "source": [
    "df.info()"
   ]
  },
  {
   "cell_type": "code",
   "execution_count": 6,
   "metadata": {},
   "outputs": [],
   "source": [
    "test = df.language.str.replace(r'[\\d+\\.]', '')"
   ]
  },
  {
   "cell_type": "code",
   "execution_count": 7,
   "metadata": {},
   "outputs": [],
   "source": [
    "df.language = test.str.replace('C', 'C++')"
   ]
  },
  {
   "cell_type": "code",
   "execution_count": 8,
   "metadata": {},
   "outputs": [
    {
     "data": {
      "text/plain": [
       "C++            50\n",
       "JavaScript     49\n",
       "Python         40\n",
       "Java           10\n",
       "Name: language, dtype: int64"
      ]
     },
     "execution_count": 8,
     "metadata": {},
     "output_type": "execute_result"
    }
   ],
   "source": [
    "df.language.value_counts()"
   ]
  },
  {
   "cell_type": "code",
   "execution_count": null,
   "metadata": {},
   "outputs": [],
   "source": []
  },
  {
   "cell_type": "code",
   "execution_count": 9,
   "metadata": {},
   "outputs": [],
   "source": [
    "import nlp_prepare"
   ]
  },
  {
   "cell_type": "code",
   "execution_count": 10,
   "metadata": {},
   "outputs": [],
   "source": [
    "df['clean'] = df.readme.apply(nlp_prepare.basic_clean)"
   ]
  },
  {
   "cell_type": "code",
   "execution_count": 11,
   "metadata": {},
   "outputs": [
    {
     "data": {
      "text/html": [
       "<div>\n",
       "<style scoped>\n",
       "    .dataframe tbody tr th:only-of-type {\n",
       "        vertical-align: middle;\n",
       "    }\n",
       "\n",
       "    .dataframe tbody tr th {\n",
       "        vertical-align: top;\n",
       "    }\n",
       "\n",
       "    .dataframe thead th {\n",
       "        text-align: right;\n",
       "    }\n",
       "</style>\n",
       "<table border=\"1\" class=\"dataframe\">\n",
       "  <thead>\n",
       "    <tr style=\"text-align: right;\">\n",
       "      <th></th>\n",
       "      <th>language</th>\n",
       "      <th>readme</th>\n",
       "      <th>clean</th>\n",
       "    </tr>\n",
       "  </thead>\n",
       "  <tbody>\n",
       "    <tr>\n",
       "      <th>0</th>\n",
       "      <td>JavaScript</td>\n",
       "      <td>FCC League-For-Good\\nThis is a free, open-sour...</td>\n",
       "      <td>fcc leagueforgood\\nthis is a free opensource w...</td>\n",
       "    </tr>\n",
       "    <tr>\n",
       "      <th>1</th>\n",
       "      <td>JavaScript</td>\n",
       "      <td>nba\\nNode.js client for nba.com API endpoints\\...</td>\n",
       "      <td>nba\\nnodejs client for nbacom api endpoints\\nn...</td>\n",
       "    </tr>\n",
       "    <tr>\n",
       "      <th>2</th>\n",
       "      <td>JavaScript</td>\n",
       "      <td>SportsLeague: Laravel 5.4 based system for var...</td>\n",
       "      <td>sportsleague laravel 54 based system for vario...</td>\n",
       "    </tr>\n",
       "    <tr>\n",
       "      <th>3</th>\n",
       "      <td>JavaScript</td>\n",
       "      <td>Team Colors\\n\\nTeam Colors is a reference of H...</td>\n",
       "      <td>team colors\\n\\nteam colors is a reference of h...</td>\n",
       "    </tr>\n",
       "    <tr>\n",
       "      <th>4</th>\n",
       "      <td>JavaScript</td>\n",
       "      <td>vue-sports\\n\\nA Vue.js project\\n\\n仿凤凰新闻体育板块+赛事...</td>\n",
       "      <td>vuesports\\n\\na vuejs project\\n\\n\\nvuex vuex\\n\\...</td>\n",
       "    </tr>\n",
       "    <tr>\n",
       "      <th>...</th>\n",
       "      <td>...</td>\n",
       "      <td>...</td>\n",
       "      <td>...</td>\n",
       "    </tr>\n",
       "    <tr>\n",
       "      <th>144</th>\n",
       "      <td>C++</td>\n",
       "      <td>PhysiBoSS\\nMultiscale simulation of multi-cell...</td>\n",
       "      <td>physiboss\\nmultiscale simulation of multicellu...</td>\n",
       "    </tr>\n",
       "    <tr>\n",
       "      <th>145</th>\n",
       "      <td>C++</td>\n",
       "      <td>PhysiBoSS\\nMultiscale simulation of multi-cell...</td>\n",
       "      <td>physiboss\\nmultiscale simulation of multicellu...</td>\n",
       "    </tr>\n",
       "    <tr>\n",
       "      <th>146</th>\n",
       "      <td>C++</td>\n",
       "      <td>\\n\\n\\nCore Principles\\nThese are the core prin...</td>\n",
       "      <td>core principles\\nthese are the core principles...</td>\n",
       "    </tr>\n",
       "    <tr>\n",
       "      <th>147</th>\n",
       "      <td>C++</td>\n",
       "      <td>CATH Tools  \\nProtein structure comparison too...</td>\n",
       "      <td>cath tools  \\nprotein structure comparison too...</td>\n",
       "    </tr>\n",
       "    <tr>\n",
       "      <th>148</th>\n",
       "      <td>C++</td>\n",
       "      <td>skew-biology\\nSoftware for my DIY spectrometer...</td>\n",
       "      <td>skewbiology\\nsoftware for my diy spectrometers...</td>\n",
       "    </tr>\n",
       "  </tbody>\n",
       "</table>\n",
       "<p>149 rows × 3 columns</p>\n",
       "</div>"
      ],
      "text/plain": [
       "        language                                             readme  \\\n",
       "0    JavaScript   FCC League-For-Good\\nThis is a free, open-sour...   \n",
       "1    JavaScript   nba\\nNode.js client for nba.com API endpoints\\...   \n",
       "2    JavaScript   SportsLeague: Laravel 5.4 based system for var...   \n",
       "3    JavaScript   Team Colors\\n\\nTeam Colors is a reference of H...   \n",
       "4    JavaScript   vue-sports\\n\\nA Vue.js project\\n\\n仿凤凰新闻体育板块+赛事...   \n",
       "..           ...                                                ...   \n",
       "144         C++   PhysiBoSS\\nMultiscale simulation of multi-cell...   \n",
       "145         C++   PhysiBoSS\\nMultiscale simulation of multi-cell...   \n",
       "146         C++   \\n\\n\\nCore Principles\\nThese are the core prin...   \n",
       "147         C++   CATH Tools  \\nProtein structure comparison too...   \n",
       "148         C++   skew-biology\\nSoftware for my DIY spectrometer...   \n",
       "\n",
       "                                                 clean  \n",
       "0    fcc leagueforgood\\nthis is a free opensource w...  \n",
       "1    nba\\nnodejs client for nbacom api endpoints\\nn...  \n",
       "2    sportsleague laravel 54 based system for vario...  \n",
       "3    team colors\\n\\nteam colors is a reference of h...  \n",
       "4    vuesports\\n\\na vuejs project\\n\\n\\nvuex vuex\\n\\...  \n",
       "..                                                 ...  \n",
       "144  physiboss\\nmultiscale simulation of multicellu...  \n",
       "145  physiboss\\nmultiscale simulation of multicellu...  \n",
       "146  core principles\\nthese are the core principles...  \n",
       "147  cath tools  \\nprotein structure comparison too...  \n",
       "148  skewbiology\\nsoftware for my diy spectrometers...  \n",
       "\n",
       "[149 rows x 3 columns]"
      ]
     },
     "execution_count": 11,
     "metadata": {},
     "output_type": "execute_result"
    }
   ],
   "source": [
    "df"
   ]
  },
  {
   "cell_type": "code",
   "execution_count": null,
   "metadata": {},
   "outputs": [],
   "source": []
  }
 ],
 "metadata": {
  "kernelspec": {
   "display_name": "Python 3",
   "language": "python",
   "name": "python3"
  },
  "language_info": {
   "codemirror_mode": {
    "name": "ipython",
    "version": 3
   },
   "file_extension": ".py",
   "mimetype": "text/x-python",
   "name": "python",
   "nbconvert_exporter": "python",
   "pygments_lexer": "ipython3",
   "version": "3.7.9"
  }
 },
 "nbformat": 4,
 "nbformat_minor": 4
}
