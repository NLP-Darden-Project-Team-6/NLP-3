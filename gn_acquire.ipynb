{
 "cells": [
  {
   "cell_type": "code",
   "execution_count": 1,
   "metadata": {},
   "outputs": [],
   "source": [
    "import pandas as pd\n",
    "import numpy as np\n",
    "from requests import get\n",
    "import os\n",
    "from bs4 import BeautifulSoup\n",
    "from time import sleep\n",
    "\n",
    "import acquire\n"
   ]
  },
  {
   "cell_type": "code",
   "execution_count": 2,
   "metadata": {},
   "outputs": [],
   "source": [
    "# create a list of urls using a list of topics\n",
    "pages = acquire.get_url_pages()"
   ]
  },
  {
   "cell_type": "code",
   "execution_count": 3,
   "metadata": {},
   "outputs": [
    {
     "name": "stdout",
     "output_type": "stream",
     "text": [
      "There are 20 unique search topics\n"
     ]
    },
    {
     "data": {
      "text/plain": [
       "['https://github.com/search?l=JavaScript&q=sports&type=Repositories',\n",
       " 'https://github.com/search?l=JavaScript&q=data+engineering&type=Repositories',\n",
       " 'https://github.com/search?l=JavaScript&q=artificial+intelligence&type=Repositories',\n",
       " 'https://github.com/search?l=JavaScript&q=space+exploration&type=Repositories',\n",
       " 'https://github.com/search?l=JavaScript&q=biology&type=Repositories',\n",
       " 'https://github.com/search?l=Python&q=sports&type=Repositories',\n",
       " 'https://github.com/search?l=Python&q=data+engineering&type=Repositories',\n",
       " 'https://github.com/search?l=Python&q=artificial+intelligence&type=Repositories',\n",
       " 'https://github.com/search?l=Python&q=space+exploration&type=Repositories',\n",
       " 'https://github.com/search?l=Python&q=biology&type=Repositories',\n",
       " 'https://github.com/search?l=Java&q=sports&type=Repositories',\n",
       " 'https://github.com/search?l=Java&q=data+engineering&type=Repositories',\n",
       " 'https://github.com/search?l=Java&q=artificial+intelligence&type=Repositories',\n",
       " 'https://github.com/search?l=Java&q=space+exploration&type=Repositories',\n",
       " 'https://github.com/search?l=Java&q=biology&type=Repositories',\n",
       " 'https://github.com/search?l=C%2B%2B&q=sports&type=Repositories',\n",
       " 'https://github.com/search?l=C%2B%2B&q=data+engineering&type=Repositories',\n",
       " 'https://github.com/search?l=C%2B%2B&q=artificial+intelligence&type=Repositories',\n",
       " 'https://github.com/search?l=C%2B%2B&q=space+exploration&type=Repositories',\n",
       " 'https://github.com/search?l=C%2B%2B&q=biology&type=Repositories']"
      ]
     },
     "execution_count": 3,
     "metadata": {},
     "output_type": "execute_result"
    }
   ],
   "source": [
    "print(f'There are {len(pages)} unique search topics')\n",
    "pages"
   ]
  },
  {
   "cell_type": "code",
   "execution_count": 4,
   "metadata": {},
   "outputs": [],
   "source": [
    "def get_url_links(urls=[]):\n",
    "    '''\n",
    "    This function creates a list of 10 urls from a single page\n",
    "    '''\n",
    "    extensions = []\n",
    "\n",
    "    for url in urls:\n",
    "        soup = make_soup(url)\n",
    "        extension = soup.find_all(\"a\", {\"class\":\"v-align-middle\"}, {\"data-hydro-click\":\"url\"})\n",
    "        for count in range(len(extension)):\n",
    "            extensions.append(\"http://github.com/\" + extension[count].get_text())\n",
    "    return extensions"
   ]
  },
  {
   "cell_type": "code",
   "execution_count": 121,
   "metadata": {},
   "outputs": [],
   "source": [
    "def make_soup(url=''):\n",
    "    '''\n",
    "    This helper function takes in a url and requests and parses HTML\n",
    "    returning a soup object.\n",
    "    '''\n",
    "    headers = {'User-Agent': 'NLP3'} \n",
    "    response = get(url, headers=headers)\n",
    "    sleep(10)\n",
    "    soup = BeautifulSoup(response.text, 'html.parser')\n",
    "    return soup"
   ]
  },
  {
   "cell_type": "code",
   "execution_count": 23,
   "metadata": {},
   "outputs": [],
   "source": [
    "def get_url_links(urls):\n",
    "    '''\n",
    "    This function creates a list of 10 urls from a single page\n",
    "    '''\n",
    "    extensions = []\n",
    "\n",
    "    soup = make_soup(urls)\n",
    "    extension = soup.find_all(\"a\", {\"class\":\"v-align-middle\"}, {\"data-hydro-click\":\"url\"})\n",
    "    for count in range(len(extension)):\n",
    "        extensions.append(\"http://github.com/\" + extension[count].get_text())\n",
    "    return extensions"
   ]
  },
  {
   "cell_type": "code",
   "execution_count": 28,
   "metadata": {},
   "outputs": [
    {
     "data": {
      "text/plain": [
       "20"
      ]
     },
     "execution_count": 28,
     "metadata": {},
     "output_type": "execute_result"
    }
   ],
   "source": [
    "len(pages)"
   ]
  },
  {
   "cell_type": "code",
   "execution_count": 74,
   "metadata": {},
   "outputs": [],
   "source": [
    "page0 = get_url_links(pages[0])"
   ]
  },
  {
   "cell_type": "code",
   "execution_count": 30,
   "metadata": {},
   "outputs": [],
   "source": [
    "page1 = get_url_links(pages[1])\n",
    "page2 = get_url_links(pages[2])\n",
    "page3 = get_url_links(pages[3])\n",
    "page4 = get_url_links(pages[4])\n",
    "page5 = get_url_links(pages[5])\n",
    "page6 = get_url_links(pages[6])\n",
    "page7 = get_url_links(pages[7])\n",
    "page8 = get_url_links(pages[8])\n",
    "page18 = get_url_links(pages[18])\n",
    "page19 = get_url_links(pages[19])"
   ]
  },
  {
   "cell_type": "code",
   "execution_count": 58,
   "metadata": {},
   "outputs": [],
   "source": [
    "page9 = get_url_links(pages[9])\n",
    "page10 = get_url_links(pages[10])\n",
    "page11 = get_url_links(pages[11])\n",
    "page12 = get_url_links(pages[12])\n",
    "page13 = get_url_links(pages[13])\n",
    "page14 = get_url_links(pages[14])\n",
    "page15 = get_url_links(pages[15])\n",
    "page16 = get_url_links(pages[16])\n",
    "page17 = get_url_links(pages[17])"
   ]
  },
  {
   "cell_type": "code",
   "execution_count": 75,
   "metadata": {
    "scrolled": true
   },
   "outputs": [
    {
     "data": {
      "text/plain": [
       "['http://github.com/freeCodeCamp/league-for-good',\n",
       " 'http://github.com/bttmly/nba',\n",
       " 'http://github.com/LaravelDaily/SportsLeague-QuickAdminPanel',\n",
       " 'http://github.com/jimniels/teamcolors',\n",
       " 'http://github.com/crli/vue-sports',\n",
       " 'http://github.com/myusuf3/courtside',\n",
       " 'http://github.com/havenxie/weapp-sportsnews',\n",
       " 'http://github.com/davemart-in/tablechamp-app',\n",
       " 'http://github.com/whatadewitt/yahoo-fantasy-sports-api',\n",
       " 'http://github.com/paulpullen/sportsticker']"
      ]
     },
     "execution_count": 75,
     "metadata": {},
     "output_type": "execute_result"
    }
   ],
   "source": [
    "page0"
   ]
  },
  {
   "cell_type": "code",
   "execution_count": 71,
   "metadata": {},
   "outputs": [
    {
     "data": {
      "text/plain": [
       "['http://github.com/alyssaq/stats-analysis',\n",
       " 'http://github.com/MrinmoiHossain/Online-Courses-Learning',\n",
       " 'http://github.com/OnDataEngineering/OnDataEngineeringContent',\n",
       " 'http://github.com/FrenchYeti/dexcalibur',\n",
       " 'http://github.com/igorbarinov/blockchainnow',\n",
       " 'http://github.com/onexi/onexi.github.io',\n",
       " 'http://github.com/nickefy/Data-Engineering-Google-Drive-Data-Pipeline',\n",
       " 'http://github.com/UPRM-Moonbuggy-Telemetry/BuggyTelemetryWebApp',\n",
       " 'http://github.com/INSO-TUWien/Binocular',\n",
       " 'http://github.com/SparklyYS/HIT-DataManage']"
      ]
     },
     "execution_count": 71,
     "metadata": {},
     "output_type": "execute_result"
    }
   ],
   "source": [
    "page1"
   ]
  },
  {
   "cell_type": "code",
   "execution_count": 76,
   "metadata": {},
   "outputs": [],
   "source": [
    "page0.extend(page1)"
   ]
  },
  {
   "cell_type": "code",
   "execution_count": 79,
   "metadata": {},
   "outputs": [],
   "source": [
    "page0.extend(page2)"
   ]
  },
  {
   "cell_type": "code",
   "execution_count": 82,
   "metadata": {},
   "outputs": [],
   "source": [
    "page0.extend(page3)"
   ]
  },
  {
   "cell_type": "code",
   "execution_count": 83,
   "metadata": {},
   "outputs": [],
   "source": [
    "page0.extend(page4)"
   ]
  },
  {
   "cell_type": "code",
   "execution_count": 84,
   "metadata": {},
   "outputs": [],
   "source": [
    "page0.extend(page5)"
   ]
  },
  {
   "cell_type": "code",
   "execution_count": 85,
   "metadata": {},
   "outputs": [],
   "source": [
    "page0.extend(page6)"
   ]
  },
  {
   "cell_type": "code",
   "execution_count": 86,
   "metadata": {},
   "outputs": [],
   "source": [
    "page0.extend(page7)"
   ]
  },
  {
   "cell_type": "code",
   "execution_count": 87,
   "metadata": {},
   "outputs": [],
   "source": [
    "page0.extend(page8)"
   ]
  },
  {
   "cell_type": "code",
   "execution_count": 88,
   "metadata": {},
   "outputs": [],
   "source": [
    "page0.extend(page9)"
   ]
  },
  {
   "cell_type": "code",
   "execution_count": 89,
   "metadata": {},
   "outputs": [],
   "source": [
    "page0.extend(page10)"
   ]
  },
  {
   "cell_type": "code",
   "execution_count": 90,
   "metadata": {},
   "outputs": [],
   "source": [
    "page0.extend(page11)"
   ]
  },
  {
   "cell_type": "code",
   "execution_count": 91,
   "metadata": {},
   "outputs": [],
   "source": [
    "page0.extend(page12)"
   ]
  },
  {
   "cell_type": "code",
   "execution_count": 92,
   "metadata": {},
   "outputs": [],
   "source": [
    "page0.extend(page13)"
   ]
  },
  {
   "cell_type": "code",
   "execution_count": 93,
   "metadata": {},
   "outputs": [],
   "source": [
    "page0.extend(page14)"
   ]
  },
  {
   "cell_type": "code",
   "execution_count": 94,
   "metadata": {},
   "outputs": [],
   "source": [
    "page0.extend(page15)"
   ]
  },
  {
   "cell_type": "code",
   "execution_count": 95,
   "metadata": {},
   "outputs": [],
   "source": [
    "page0.extend(page16)"
   ]
  },
  {
   "cell_type": "code",
   "execution_count": 96,
   "metadata": {},
   "outputs": [],
   "source": [
    "page0.extend(page17)"
   ]
  },
  {
   "cell_type": "code",
   "execution_count": 97,
   "metadata": {},
   "outputs": [],
   "source": [
    "page0.extend(page18)"
   ]
  },
  {
   "cell_type": "code",
   "execution_count": 98,
   "metadata": {},
   "outputs": [],
   "source": [
    "page0.extend(page19)"
   ]
  },
  {
   "cell_type": "code",
   "execution_count": 99,
   "metadata": {},
   "outputs": [
    {
     "data": {
      "text/plain": [
       "200"
      ]
     },
     "execution_count": 99,
     "metadata": {},
     "output_type": "execute_result"
    }
   ],
   "source": [
    "len(page0)"
   ]
  },
  {
   "cell_type": "code",
   "execution_count": null,
   "metadata": {},
   "outputs": [],
   "source": []
  },
  {
   "cell_type": "code",
   "execution_count": null,
   "metadata": {},
   "outputs": [],
   "source": []
  },
  {
   "cell_type": "code",
   "execution_count": null,
   "metadata": {},
   "outputs": [],
   "source": []
  },
  {
   "cell_type": "code",
   "execution_count": 147,
   "metadata": {},
   "outputs": [],
   "source": [
    "def scrape_repos(repo_urls=[]):\n",
    "    readme_data = []\n",
    "    requests = 0\n",
    "    for repo in repo_urls:\n",
    "        requests += 1\n",
    "        print(requests)\n",
    "        repo_soup = make_soup(repo)\n",
    "        if repo_soup.find('span', class_=\"Progress-item\", itemprop='keywords', attrs='aria-label') == None:\n",
    "            continue\n",
    "        else:\n",
    "            for sentence in repo_soup.findAll(class_=\"markdown-body entry-content container-lg\"):\n",
    "                readme = ''.join(sentence.findAll(text=True))\n",
    "            language = repo_soup.find('span', class_=\"Progress-item\", itemprop='keywords', attrs='aria-label')['aria-label']\n",
    "            watchers = (repo_soup.find_all('a', class_ = \"social-count\")[0].text).strip()\n",
    "            stars = (repo_soup.find_all('a', class_ = \"social-count\")[1].text).strip()\n",
    "            forks = (repo_soup.find_all('a', class_ = \"social-count\")[2].text).strip()\n",
    "            commits = (test_soup.find_all('span', class_ = \"d-none d-sm-inline\")[1].text).replace('commits', '').strip()\n",
    "            \n",
    "            repo_info = {'language' : language,\n",
    "                        'readme': readme,\n",
    "                        'watchers': watchers,\n",
    "                        'stars': stars,\n",
    "                        'forks': forks,\n",
    "                        'commits': commits}\n",
    "            readme_data.append(repo_info)\n",
    "    return readme_data"
   ]
  },
  {
   "cell_type": "code",
   "execution_count": null,
   "metadata": {},
   "outputs": [],
   "source": []
  },
  {
   "cell_type": "code",
   "execution_count": 148,
   "metadata": {},
   "outputs": [
    {
     "name": "stdout",
     "output_type": "stream",
     "text": [
      "1\n",
      "2\n",
      "3\n",
      "4\n",
      "5\n",
      "6\n",
      "7\n",
      "8\n",
      "9\n",
      "10\n",
      "11\n",
      "12\n",
      "13\n",
      "14\n",
      "15\n",
      "16\n",
      "17\n",
      "18\n",
      "19\n",
      "20\n",
      "21\n",
      "22\n",
      "23\n",
      "24\n",
      "25\n",
      "26\n",
      "27\n",
      "28\n",
      "29\n",
      "30\n",
      "31\n",
      "32\n",
      "33\n",
      "34\n",
      "35\n",
      "36\n",
      "37\n",
      "38\n",
      "39\n",
      "40\n",
      "41\n",
      "42\n",
      "43\n",
      "44\n",
      "45\n",
      "46\n",
      "47\n",
      "48\n",
      "49\n",
      "50\n",
      "51\n",
      "52\n",
      "53\n",
      "54\n",
      "55\n",
      "56\n",
      "57\n",
      "58\n",
      "59\n",
      "60\n",
      "61\n",
      "62\n",
      "63\n",
      "64\n",
      "65\n",
      "66\n",
      "67\n",
      "68\n",
      "69\n",
      "70\n",
      "71\n",
      "72\n",
      "73\n",
      "74\n",
      "75\n",
      "76\n",
      "77\n",
      "78\n",
      "79\n",
      "80\n",
      "81\n",
      "82\n",
      "83\n",
      "84\n",
      "85\n",
      "86\n",
      "87\n",
      "88\n",
      "89\n",
      "90\n",
      "91\n",
      "92\n",
      "93\n",
      "94\n",
      "95\n",
      "96\n",
      "97\n",
      "98\n",
      "99\n",
      "100\n",
      "101\n",
      "102\n",
      "103\n",
      "104\n",
      "105\n",
      "106\n",
      "107\n",
      "108\n",
      "109\n",
      "110\n",
      "111\n",
      "112\n",
      "113\n",
      "114\n",
      "115\n",
      "116\n",
      "117\n",
      "118\n",
      "119\n",
      "120\n",
      "121\n",
      "122\n",
      "123\n",
      "124\n",
      "125\n",
      "126\n",
      "127\n",
      "128\n",
      "129\n",
      "130\n",
      "131\n",
      "132\n",
      "133\n",
      "134\n",
      "135\n",
      "136\n",
      "137\n",
      "138\n",
      "139\n",
      "140\n",
      "141\n",
      "142\n",
      "143\n",
      "144\n",
      "145\n",
      "146\n",
      "147\n",
      "148\n",
      "149\n",
      "150\n",
      "151\n",
      "152\n",
      "153\n",
      "154\n",
      "155\n",
      "156\n",
      "157\n",
      "158\n",
      "159\n",
      "160\n",
      "161\n",
      "162\n",
      "163\n",
      "164\n",
      "165\n",
      "166\n",
      "167\n",
      "168\n",
      "169\n",
      "170\n",
      "171\n",
      "172\n",
      "173\n",
      "174\n",
      "175\n",
      "176\n",
      "177\n",
      "178\n",
      "179\n",
      "180\n",
      "181\n",
      "182\n",
      "183\n",
      "184\n",
      "185\n",
      "186\n",
      "187\n",
      "188\n",
      "189\n",
      "190\n",
      "191\n",
      "192\n",
      "193\n",
      "194\n",
      "195\n",
      "196\n",
      "197\n",
      "198\n",
      "199\n",
      "200\n"
     ]
    }
   ],
   "source": [
    "data = scrape_repos(page0)"
   ]
  },
  {
   "cell_type": "code",
   "execution_count": 149,
   "metadata": {},
   "outputs": [],
   "source": [
    "df = pd.DataFrame(data)"
   ]
  },
  {
   "cell_type": "code",
   "execution_count": 150,
   "metadata": {},
   "outputs": [
    {
     "data": {
      "text/html": [
       "<div>\n",
       "<style scoped>\n",
       "    .dataframe tbody tr th:only-of-type {\n",
       "        vertical-align: middle;\n",
       "    }\n",
       "\n",
       "    .dataframe tbody tr th {\n",
       "        vertical-align: top;\n",
       "    }\n",
       "\n",
       "    .dataframe thead th {\n",
       "        text-align: right;\n",
       "    }\n",
       "</style>\n",
       "<table border=\"1\" class=\"dataframe\">\n",
       "  <thead>\n",
       "    <tr style=\"text-align: right;\">\n",
       "      <th></th>\n",
       "      <th>language</th>\n",
       "      <th>readme</th>\n",
       "      <th>watchers</th>\n",
       "      <th>stars</th>\n",
       "      <th>forks</th>\n",
       "      <th>commits</th>\n",
       "    </tr>\n",
       "  </thead>\n",
       "  <tbody>\n",
       "    <tr>\n",
       "      <th>0</th>\n",
       "      <td>JavaScript 98.7</td>\n",
       "      <td>FCC League-For-Good\\nThis is a free, open-sour...</td>\n",
       "      <td>28</td>\n",
       "      <td>161</td>\n",
       "      <td>98</td>\n",
       "      <td>411</td>\n",
       "    </tr>\n",
       "    <tr>\n",
       "      <th>1</th>\n",
       "      <td>JavaScript 97.4</td>\n",
       "      <td>nba\\nNode.js client for nba.com API endpoints\\...</td>\n",
       "      <td>49</td>\n",
       "      <td>621</td>\n",
       "      <td>150</td>\n",
       "      <td>411</td>\n",
       "    </tr>\n",
       "    <tr>\n",
       "      <th>2</th>\n",
       "      <td>JavaScript 60.0</td>\n",
       "      <td>SportsLeague: Laravel 5.4 based system for var...</td>\n",
       "      <td>6</td>\n",
       "      <td>26</td>\n",
       "      <td>48</td>\n",
       "      <td>411</td>\n",
       "    </tr>\n",
       "    <tr>\n",
       "      <th>3</th>\n",
       "      <td>JavaScript 63.6</td>\n",
       "      <td>Team Colors\\n\\nTeam Colors is a reference of H...</td>\n",
       "      <td>11</td>\n",
       "      <td>123</td>\n",
       "      <td>58</td>\n",
       "      <td>411</td>\n",
       "    </tr>\n",
       "    <tr>\n",
       "      <th>4</th>\n",
       "      <td>JavaScript 39.3</td>\n",
       "      <td>vue-sports\\n\\nA Vue.js project\\n\\n仿凤凰新闻体育板块+赛事...</td>\n",
       "      <td>5</td>\n",
       "      <td>93</td>\n",
       "      <td>42</td>\n",
       "      <td>411</td>\n",
       "    </tr>\n",
       "    <tr>\n",
       "      <th>...</th>\n",
       "      <td>...</td>\n",
       "      <td>...</td>\n",
       "      <td>...</td>\n",
       "      <td>...</td>\n",
       "      <td>...</td>\n",
       "      <td>...</td>\n",
       "    </tr>\n",
       "    <tr>\n",
       "      <th>194</th>\n",
       "      <td>C++ 71.9</td>\n",
       "      <td>PhysiBoSS\\nMultiscale simulation of multi-cell...</td>\n",
       "      <td>5</td>\n",
       "      <td>16</td>\n",
       "      <td>6</td>\n",
       "      <td>411</td>\n",
       "    </tr>\n",
       "    <tr>\n",
       "      <th>195</th>\n",
       "      <td>C++ 77.9</td>\n",
       "      <td>PhysiBoSS\\nMultiscale simulation of multi-cell...</td>\n",
       "      <td>3</td>\n",
       "      <td>1</td>\n",
       "      <td>6</td>\n",
       "      <td>411</td>\n",
       "    </tr>\n",
       "    <tr>\n",
       "      <th>196</th>\n",
       "      <td>C++ 79.4</td>\n",
       "      <td>\\n\\n\\nCore Principles\\nThese are the core prin...</td>\n",
       "      <td>1</td>\n",
       "      <td>8</td>\n",
       "      <td>5</td>\n",
       "      <td>411</td>\n",
       "    </tr>\n",
       "    <tr>\n",
       "      <th>197</th>\n",
       "      <td>C++ 96.1</td>\n",
       "      <td>CATH Tools  \\nProtein structure comparison too...</td>\n",
       "      <td>9</td>\n",
       "      <td>26</td>\n",
       "      <td>9</td>\n",
       "      <td>411</td>\n",
       "    </tr>\n",
       "    <tr>\n",
       "      <th>198</th>\n",
       "      <td>C++ 98.2</td>\n",
       "      <td>skew-biology\\nSoftware for my DIY spectrometer...</td>\n",
       "      <td>2</td>\n",
       "      <td>2</td>\n",
       "      <td>1</td>\n",
       "      <td>411</td>\n",
       "    </tr>\n",
       "  </tbody>\n",
       "</table>\n",
       "<p>199 rows × 6 columns</p>\n",
       "</div>"
      ],
      "text/plain": [
       "            language                                             readme  \\\n",
       "0    JavaScript 98.7  FCC League-For-Good\\nThis is a free, open-sour...   \n",
       "1    JavaScript 97.4  nba\\nNode.js client for nba.com API endpoints\\...   \n",
       "2    JavaScript 60.0  SportsLeague: Laravel 5.4 based system for var...   \n",
       "3    JavaScript 63.6  Team Colors\\n\\nTeam Colors is a reference of H...   \n",
       "4    JavaScript 39.3  vue-sports\\n\\nA Vue.js project\\n\\n仿凤凰新闻体育板块+赛事...   \n",
       "..               ...                                                ...   \n",
       "194         C++ 71.9  PhysiBoSS\\nMultiscale simulation of multi-cell...   \n",
       "195         C++ 77.9  PhysiBoSS\\nMultiscale simulation of multi-cell...   \n",
       "196         C++ 79.4  \\n\\n\\nCore Principles\\nThese are the core prin...   \n",
       "197         C++ 96.1  CATH Tools  \\nProtein structure comparison too...   \n",
       "198         C++ 98.2  skew-biology\\nSoftware for my DIY spectrometer...   \n",
       "\n",
       "    watchers stars forks commits  \n",
       "0         28   161    98     411  \n",
       "1         49   621   150     411  \n",
       "2          6    26    48     411  \n",
       "3         11   123    58     411  \n",
       "4          5    93    42     411  \n",
       "..       ...   ...   ...     ...  \n",
       "194        5    16     6     411  \n",
       "195        3     1     6     411  \n",
       "196        1     8     5     411  \n",
       "197        9    26     9     411  \n",
       "198        2     2     1     411  \n",
       "\n",
       "[199 rows x 6 columns]"
      ]
     },
     "execution_count": 150,
     "metadata": {},
     "output_type": "execute_result"
    }
   ],
   "source": [
    "df"
   ]
  },
  {
   "cell_type": "code",
   "execution_count": 151,
   "metadata": {},
   "outputs": [],
   "source": [
    "import json"
   ]
  },
  {
   "cell_type": "code",
   "execution_count": null,
   "metadata": {},
   "outputs": [],
   "source": [
    "json.loads(json.dumps(data))"
   ]
  },
  {
   "cell_type": "code",
   "execution_count": 152,
   "metadata": {},
   "outputs": [],
   "source": [
    "# #saving as a json file\n",
    "# with open('read_me.json', 'w') as file:\n",
    "#     json.dump(data, file)\n",
    "\n",
    "#can also use\n",
    "\n",
    "#df.to_json('readme_data200.json')"
   ]
  },
  {
   "cell_type": "code",
   "execution_count": null,
   "metadata": {},
   "outputs": [],
   "source": []
  },
  {
   "cell_type": "code",
   "execution_count": 3,
   "metadata": {
    "scrolled": true
   },
   "outputs": [],
   "source": [
    "data = pd.read_json('readme_data.json')"
   ]
  },
  {
   "cell_type": "code",
   "execution_count": 4,
   "metadata": {},
   "outputs": [
    {
     "data": {
      "text/html": [
       "<div>\n",
       "<style scoped>\n",
       "    .dataframe tbody tr th:only-of-type {\n",
       "        vertical-align: middle;\n",
       "    }\n",
       "\n",
       "    .dataframe tbody tr th {\n",
       "        vertical-align: top;\n",
       "    }\n",
       "\n",
       "    .dataframe thead th {\n",
       "        text-align: right;\n",
       "    }\n",
       "</style>\n",
       "<table border=\"1\" class=\"dataframe\">\n",
       "  <thead>\n",
       "    <tr style=\"text-align: right;\">\n",
       "      <th></th>\n",
       "      <th>language</th>\n",
       "      <th>readme</th>\n",
       "    </tr>\n",
       "  </thead>\n",
       "  <tbody>\n",
       "    <tr>\n",
       "      <th>0</th>\n",
       "      <td>JavaScript 98.7</td>\n",
       "      <td>FCC League-For-Good\\nThis is a free, open-sour...</td>\n",
       "    </tr>\n",
       "    <tr>\n",
       "      <th>1</th>\n",
       "      <td>JavaScript 97.4</td>\n",
       "      <td>nba\\nNode.js client for nba.com API endpoints\\...</td>\n",
       "    </tr>\n",
       "    <tr>\n",
       "      <th>2</th>\n",
       "      <td>JavaScript 60.0</td>\n",
       "      <td>SportsLeague: Laravel 5.4 based system for var...</td>\n",
       "    </tr>\n",
       "    <tr>\n",
       "      <th>3</th>\n",
       "      <td>JavaScript 63.6</td>\n",
       "      <td>Team Colors\\n\\nTeam Colors is a reference of H...</td>\n",
       "    </tr>\n",
       "    <tr>\n",
       "      <th>4</th>\n",
       "      <td>JavaScript 39.3</td>\n",
       "      <td>vue-sports\\n\\nA Vue.js project\\n\\n仿凤凰新闻体育板块+赛事...</td>\n",
       "    </tr>\n",
       "    <tr>\n",
       "      <th>...</th>\n",
       "      <td>...</td>\n",
       "      <td>...</td>\n",
       "    </tr>\n",
       "    <tr>\n",
       "      <th>144</th>\n",
       "      <td>C++ 71.9</td>\n",
       "      <td>PhysiBoSS\\nMultiscale simulation of multi-cell...</td>\n",
       "    </tr>\n",
       "    <tr>\n",
       "      <th>145</th>\n",
       "      <td>C++ 77.9</td>\n",
       "      <td>PhysiBoSS\\nMultiscale simulation of multi-cell...</td>\n",
       "    </tr>\n",
       "    <tr>\n",
       "      <th>146</th>\n",
       "      <td>C++ 79.4</td>\n",
       "      <td>\\n\\n\\nCore Principles\\nThese are the core prin...</td>\n",
       "    </tr>\n",
       "    <tr>\n",
       "      <th>147</th>\n",
       "      <td>C++ 96.1</td>\n",
       "      <td>CATH Tools  \\nProtein structure comparison too...</td>\n",
       "    </tr>\n",
       "    <tr>\n",
       "      <th>148</th>\n",
       "      <td>C++ 98.2</td>\n",
       "      <td>skew-biology\\nSoftware for my DIY spectrometer...</td>\n",
       "    </tr>\n",
       "  </tbody>\n",
       "</table>\n",
       "<p>149 rows × 2 columns</p>\n",
       "</div>"
      ],
      "text/plain": [
       "            language                                             readme\n",
       "0    JavaScript 98.7  FCC League-For-Good\\nThis is a free, open-sour...\n",
       "1    JavaScript 97.4  nba\\nNode.js client for nba.com API endpoints\\...\n",
       "2    JavaScript 60.0  SportsLeague: Laravel 5.4 based system for var...\n",
       "3    JavaScript 63.6  Team Colors\\n\\nTeam Colors is a reference of H...\n",
       "4    JavaScript 39.3  vue-sports\\n\\nA Vue.js project\\n\\n仿凤凰新闻体育板块+赛事...\n",
       "..               ...                                                ...\n",
       "144         C++ 71.9  PhysiBoSS\\nMultiscale simulation of multi-cell...\n",
       "145         C++ 77.9  PhysiBoSS\\nMultiscale simulation of multi-cell...\n",
       "146         C++ 79.4  \\n\\n\\nCore Principles\\nThese are the core prin...\n",
       "147         C++ 96.1  CATH Tools  \\nProtein structure comparison too...\n",
       "148         C++ 98.2  skew-biology\\nSoftware for my DIY spectrometer...\n",
       "\n",
       "[149 rows x 2 columns]"
      ]
     },
     "execution_count": 4,
     "metadata": {},
     "output_type": "execute_result"
    }
   ],
   "source": [
    "data"
   ]
  },
  {
   "cell_type": "code",
   "execution_count": null,
   "metadata": {},
   "outputs": [],
   "source": [
    "import unicodedata\n",
    "import re\n",
    "\n",
    "import nltk\n",
    "from nltk.tokenize.toktok import ToktokTokenizer\n",
    "from nltk.corpus import stopwords"
   ]
  },
  {
   "cell_type": "code",
   "execution_count": null,
   "metadata": {},
   "outputs": [],
   "source": []
  },
  {
   "cell_type": "code",
   "execution_count": 5,
   "metadata": {},
   "outputs": [],
   "source": [
    "df = pd.DataFrame(data)"
   ]
  },
  {
   "cell_type": "code",
   "execution_count": null,
   "metadata": {},
   "outputs": [],
   "source": []
  },
  {
   "cell_type": "code",
   "execution_count": 9,
   "metadata": {},
   "outputs": [],
   "source": [
    "import nlp_prepare"
   ]
  },
  {
   "cell_type": "code",
   "execution_count": 34,
   "metadata": {},
   "outputs": [],
   "source": [
    "data = pd.read_csv('cleaned_repos.csv')"
   ]
  },
  {
   "cell_type": "code",
   "execution_count": 35,
   "metadata": {},
   "outputs": [
    {
     "data": {
      "text/html": [
       "<div>\n",
       "<style scoped>\n",
       "    .dataframe tbody tr th:only-of-type {\n",
       "        vertical-align: middle;\n",
       "    }\n",
       "\n",
       "    .dataframe tbody tr th {\n",
       "        vertical-align: top;\n",
       "    }\n",
       "\n",
       "    .dataframe thead th {\n",
       "        text-align: right;\n",
       "    }\n",
       "</style>\n",
       "<table border=\"1\" class=\"dataframe\">\n",
       "  <thead>\n",
       "    <tr style=\"text-align: right;\">\n",
       "      <th></th>\n",
       "      <th>language</th>\n",
       "      <th>readme</th>\n",
       "      <th>stemmed</th>\n",
       "      <th>lemmatized</th>\n",
       "      <th>clean</th>\n",
       "    </tr>\n",
       "  </thead>\n",
       "  <tbody>\n",
       "    <tr>\n",
       "      <th>0</th>\n",
       "      <td>JavaScript</td>\n",
       "      <td>FCC League-For-Good\\nThis is a free, open-sour...</td>\n",
       "      <td>fcc leagueforgood thi is a free opensourc web ...</td>\n",
       "      <td>fcc leagueforgood this is a free opensource we...</td>\n",
       "      <td>fcc leagueforgood free opensource web applicat...</td>\n",
       "    </tr>\n",
       "    <tr>\n",
       "      <th>1</th>\n",
       "      <td>JavaScript</td>\n",
       "      <td>nba\\nNode.js client for nba.com API endpoints\\...</td>\n",
       "      <td>nba nodej client for nbacom api endpoint npm i...</td>\n",
       "      <td>nba nodejs client for nbacom api endpoint npm ...</td>\n",
       "      <td>nba nodejs client nbacom api endpoint npm inst...</td>\n",
       "    </tr>\n",
       "    <tr>\n",
       "      <th>2</th>\n",
       "      <td>JavaScript</td>\n",
       "      <td>SportsLeague: Laravel 5.4 based system for var...</td>\n",
       "      <td>sportsleagu laravel 54 base system for variou ...</td>\n",
       "      <td>sportsleague laravel 54 based system for vario...</td>\n",
       "      <td>sportsleague laravel 54 based system various s...</td>\n",
       "    </tr>\n",
       "    <tr>\n",
       "      <th>3</th>\n",
       "      <td>JavaScript</td>\n",
       "      <td>Team Colors\\n\\nTeam Colors is a reference of H...</td>\n",
       "      <td>team color team color is a refer of hex rgb cm...</td>\n",
       "      <td>team color team color is a reference of hex rg...</td>\n",
       "      <td>team color team color reference hex rgb cmyk p...</td>\n",
       "    </tr>\n",
       "    <tr>\n",
       "      <th>4</th>\n",
       "      <td>JavaScript</td>\n",
       "      <td>vue-sports\\n\\nA Vue.js project\\n\\n仿凤凰新闻体育板块+赛事...</td>\n",
       "      <td>vuesport a vuej project vuex vuex build setup ...</td>\n",
       "      <td>vuesports a vuejs project vuex vuex build setu...</td>\n",
       "      <td>vuesports vuejs project vuex vuex build setup ...</td>\n",
       "    </tr>\n",
       "    <tr>\n",
       "      <th>...</th>\n",
       "      <td>...</td>\n",
       "      <td>...</td>\n",
       "      <td>...</td>\n",
       "      <td>...</td>\n",
       "      <td>...</td>\n",
       "    </tr>\n",
       "    <tr>\n",
       "      <th>144</th>\n",
       "      <td>C++</td>\n",
       "      <td>PhysiBoSS\\nMultiscale simulation of multi-cell...</td>\n",
       "      <td>physiboss multiscal simul of multicellular sys...</td>\n",
       "      <td>physiboss multiscale simulation of multicellul...</td>\n",
       "      <td>physiboss multiscale simulation multicellular ...</td>\n",
       "    </tr>\n",
       "    <tr>\n",
       "      <th>145</th>\n",
       "      <td>C++</td>\n",
       "      <td>PhysiBoSS\\nMultiscale simulation of multi-cell...</td>\n",
       "      <td>physiboss multiscal simul of multicellular sys...</td>\n",
       "      <td>physiboss multiscale simulation of multicellul...</td>\n",
       "      <td>physiboss multiscale simulation multicellular ...</td>\n",
       "    </tr>\n",
       "    <tr>\n",
       "      <th>146</th>\n",
       "      <td>C++</td>\n",
       "      <td>\\n\\n\\nCore Principles\\nThese are the core prin...</td>\n",
       "      <td>core principl these are the core principl of o...</td>\n",
       "      <td>core principle these are the core principle of...</td>\n",
       "      <td>core principle core principle objectoriented a...</td>\n",
       "    </tr>\n",
       "    <tr>\n",
       "      <th>147</th>\n",
       "      <td>C++</td>\n",
       "      <td>CATH Tools  \\nProtein structure comparison too...</td>\n",
       "      <td>cath tool protein structur comparison tool suc...</td>\n",
       "      <td>cath tool protein structure comparison tool su...</td>\n",
       "      <td>cath tool protein structure comparison tool ss...</td>\n",
       "    </tr>\n",
       "    <tr>\n",
       "      <th>148</th>\n",
       "      <td>C++</td>\n",
       "      <td>skew-biology\\nSoftware for my DIY spectrometer...</td>\n",
       "      <td>skewbiolog softwar for my diy spectromet senso...</td>\n",
       "      <td>skewbiology software for my diy spectrometer s...</td>\n",
       "      <td>skewbiology software diy spectrometer sensor p...</td>\n",
       "    </tr>\n",
       "  </tbody>\n",
       "</table>\n",
       "<p>149 rows × 5 columns</p>\n",
       "</div>"
      ],
      "text/plain": [
       "        language                                             readme  \\\n",
       "0    JavaScript   FCC League-For-Good\\nThis is a free, open-sour...   \n",
       "1    JavaScript   nba\\nNode.js client for nba.com API endpoints\\...   \n",
       "2    JavaScript   SportsLeague: Laravel 5.4 based system for var...   \n",
       "3    JavaScript   Team Colors\\n\\nTeam Colors is a reference of H...   \n",
       "4    JavaScript   vue-sports\\n\\nA Vue.js project\\n\\n仿凤凰新闻体育板块+赛事...   \n",
       "..           ...                                                ...   \n",
       "144         C++   PhysiBoSS\\nMultiscale simulation of multi-cell...   \n",
       "145         C++   PhysiBoSS\\nMultiscale simulation of multi-cell...   \n",
       "146         C++   \\n\\n\\nCore Principles\\nThese are the core prin...   \n",
       "147         C++   CATH Tools  \\nProtein structure comparison too...   \n",
       "148         C++   skew-biology\\nSoftware for my DIY spectrometer...   \n",
       "\n",
       "                                               stemmed  \\\n",
       "0    fcc leagueforgood thi is a free opensourc web ...   \n",
       "1    nba nodej client for nbacom api endpoint npm i...   \n",
       "2    sportsleagu laravel 54 base system for variou ...   \n",
       "3    team color team color is a refer of hex rgb cm...   \n",
       "4    vuesport a vuej project vuex vuex build setup ...   \n",
       "..                                                 ...   \n",
       "144  physiboss multiscal simul of multicellular sys...   \n",
       "145  physiboss multiscal simul of multicellular sys...   \n",
       "146  core principl these are the core principl of o...   \n",
       "147  cath tool protein structur comparison tool suc...   \n",
       "148  skewbiolog softwar for my diy spectromet senso...   \n",
       "\n",
       "                                            lemmatized  \\\n",
       "0    fcc leagueforgood this is a free opensource we...   \n",
       "1    nba nodejs client for nbacom api endpoint npm ...   \n",
       "2    sportsleague laravel 54 based system for vario...   \n",
       "3    team color team color is a reference of hex rg...   \n",
       "4    vuesports a vuejs project vuex vuex build setu...   \n",
       "..                                                 ...   \n",
       "144  physiboss multiscale simulation of multicellul...   \n",
       "145  physiboss multiscale simulation of multicellul...   \n",
       "146  core principle these are the core principle of...   \n",
       "147  cath tool protein structure comparison tool su...   \n",
       "148  skewbiology software for my diy spectrometer s...   \n",
       "\n",
       "                                                 clean  \n",
       "0    fcc leagueforgood free opensource web applicat...  \n",
       "1    nba nodejs client nbacom api endpoint npm inst...  \n",
       "2    sportsleague laravel 54 based system various s...  \n",
       "3    team color team color reference hex rgb cmyk p...  \n",
       "4    vuesports vuejs project vuex vuex build setup ...  \n",
       "..                                                 ...  \n",
       "144  physiboss multiscale simulation multicellular ...  \n",
       "145  physiboss multiscale simulation multicellular ...  \n",
       "146  core principle core principle objectoriented a...  \n",
       "147  cath tool protein structure comparison tool ss...  \n",
       "148  skewbiology software diy spectrometer sensor p...  \n",
       "\n",
       "[149 rows x 5 columns]"
      ]
     },
     "execution_count": 35,
     "metadata": {},
     "output_type": "execute_result"
    }
   ],
   "source": [
    "data"
   ]
  },
  {
   "cell_type": "code",
   "execution_count": null,
   "metadata": {},
   "outputs": [],
   "source": []
  }
 ],
 "metadata": {
  "kernelspec": {
   "display_name": "Python 3",
   "language": "python",
   "name": "python3"
  },
  "language_info": {
   "codemirror_mode": {
    "name": "ipython",
    "version": 3
   },
   "file_extension": ".py",
   "mimetype": "text/x-python",
   "name": "python",
   "nbconvert_exporter": "python",
   "pygments_lexer": "ipython3",
   "version": "3.7.9"
  }
 },
 "nbformat": 4,
 "nbformat_minor": 4
}
