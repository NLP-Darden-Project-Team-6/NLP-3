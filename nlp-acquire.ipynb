{
 "cells": [
  {
   "cell_type": "markdown",
   "metadata": {},
   "source": [
    "# Acquire README's from Github"
   ]
  },
  {
   "cell_type": "code",
   "execution_count": 1,
   "metadata": {},
   "outputs": [],
   "source": [
    "import pandas as pd\n",
    "import numpy as np\n",
    "from requests import get\n",
    "import os\n",
    "from bs4 import BeautifulSoup\n",
    "\n",
    "import acquire\n",
    "import nlp_prepare"
   ]
  },
  {
   "cell_type": "markdown",
   "metadata": {},
   "source": [
    "First we'll acquire a list of repositories with the topics:\n",
    "- Sports\n",
    "- Data Engineering\n",
    "- Artificial Intelligence\n",
    "- Space Exploration\n",
    "- Biology\n",
    "\n",
    "Each written in:\n",
    "- JavaScript\n",
    "- Python\n",
    "- Java\n",
    "- C#\n"
   ]
  },
  {
   "cell_type": "code",
   "execution_count": null,
   "metadata": {},
   "outputs": [],
   "source": [
    "# create a list of urls using a list of topics\n",
    "pages = acquire.get_url_pages()"
   ]
  },
  {
   "cell_type": "code",
   "execution_count": null,
   "metadata": {},
   "outputs": [],
   "source": [
    "print(f'There are {len(pages)} unique search topics')\n",
    "pages"
   ]
  },
  {
   "cell_type": "code",
   "execution_count": null,
   "metadata": {},
   "outputs": [],
   "source": [
    "repository_links = acquire.get_url_links(pages)"
   ]
  },
  {
   "cell_type": "code",
   "execution_count": null,
   "metadata": {},
   "outputs": [],
   "source": [
    "repository_links[0]"
   ]
  },
  {
   "cell_type": "code",
   "execution_count": null,
   "metadata": {
    "scrolled": false
   },
   "outputs": [],
   "source": [
    "repo_soup = acquire.make_soup(repository_links[0])\n",
    "\n",
    "for sentence in repo_soup.findAll(class_=\"markdown-body entry-content container-lg\"):\n",
    "    readme = ''.join(sentence.findAll(text=True))"
   ]
  },
  {
   "cell_type": "code",
   "execution_count": null,
   "metadata": {},
   "outputs": [],
   "source": [
    "readme"
   ]
  },
  {
   "cell_type": "code",
   "execution_count": null,
   "metadata": {},
   "outputs": [],
   "source": [
    "language = repo_soup.find('span', class_=\"Progress-item\", itemprop='keywords', attrs='aria-label')['aria-label']\n",
    "repo_info = {'language' : language,\n",
    "              'readme': readme}"
   ]
  },
  {
   "cell_type": "code",
   "execution_count": null,
   "metadata": {},
   "outputs": [],
   "source": [
    "repo_info"
   ]
  },
  {
   "cell_type": "markdown",
   "metadata": {
    "scrolled": false
   },
   "source": [
    "```python\n",
    "data = acquire.scrape_repos(repository_links)\n",
    "```"
   ]
  },
  {
   "cell_type": "code",
   "execution_count": 2,
   "metadata": {},
   "outputs": [],
   "source": [
    "data = pd.read_json('readme_data.json')\n",
    "df = pd.DataFrame(data)"
   ]
  },
  {
   "cell_type": "code",
   "execution_count": 3,
   "metadata": {},
   "outputs": [],
   "source": [
    "df = nlp_prepare.prep_article_data(df, 'readme')"
   ]
  },
  {
   "cell_type": "code",
   "execution_count": 4,
   "metadata": {},
   "outputs": [
    {
     "data": {
      "text/html": [
       "<div>\n",
       "<style scoped>\n",
       "    .dataframe tbody tr th:only-of-type {\n",
       "        vertical-align: middle;\n",
       "    }\n",
       "\n",
       "    .dataframe tbody tr th {\n",
       "        vertical-align: top;\n",
       "    }\n",
       "\n",
       "    .dataframe thead th {\n",
       "        text-align: right;\n",
       "    }\n",
       "</style>\n",
       "<table border=\"1\" class=\"dataframe\">\n",
       "  <thead>\n",
       "    <tr style=\"text-align: right;\">\n",
       "      <th></th>\n",
       "      <th>language</th>\n",
       "      <th>readme</th>\n",
       "      <th>stemmed</th>\n",
       "      <th>lemmatized</th>\n",
       "      <th>clean</th>\n",
       "    </tr>\n",
       "  </thead>\n",
       "  <tbody>\n",
       "    <tr>\n",
       "      <th>0</th>\n",
       "      <td>JavaScript</td>\n",
       "      <td>FCC League-For-Good\\nThis is a free, open-sour...</td>\n",
       "      <td>fcc leagueforgood thi is a free opensourc web ...</td>\n",
       "      <td>fcc leagueforgood this is a free opensource we...</td>\n",
       "      <td>fcc leagueforgood free opensource web applicat...</td>\n",
       "    </tr>\n",
       "    <tr>\n",
       "      <th>1</th>\n",
       "      <td>JavaScript</td>\n",
       "      <td>nba\\nNode.js client for nba.com API endpoints\\...</td>\n",
       "      <td>nba nodej client for nbacom api endpoint npm i...</td>\n",
       "      <td>nba nodejs client for nbacom api endpoint npm ...</td>\n",
       "      <td>nba nodejs client nbacom api endpoint npm inst...</td>\n",
       "    </tr>\n",
       "    <tr>\n",
       "      <th>2</th>\n",
       "      <td>JavaScript</td>\n",
       "      <td>SportsLeague: Laravel 5.4 based system for var...</td>\n",
       "      <td>sportsleagu laravel 54 base system for variou ...</td>\n",
       "      <td>sportsleague laravel 54 based system for vario...</td>\n",
       "      <td>sportsleague laravel 54 based system various s...</td>\n",
       "    </tr>\n",
       "    <tr>\n",
       "      <th>3</th>\n",
       "      <td>JavaScript</td>\n",
       "      <td>Team Colors\\n\\nTeam Colors is a reference of H...</td>\n",
       "      <td>team color team color is a refer of hex rgb cm...</td>\n",
       "      <td>team color team color is a reference of hex rg...</td>\n",
       "      <td>team color team color reference hex rgb cmyk p...</td>\n",
       "    </tr>\n",
       "    <tr>\n",
       "      <th>4</th>\n",
       "      <td>JavaScript</td>\n",
       "      <td>vue-sports\\n\\nA Vue.js project\\n\\n仿凤凰新闻体育板块+赛事...</td>\n",
       "      <td>vuesport a vuej project vuex vuex build setup ...</td>\n",
       "      <td>vuesports a vuejs project vuex vuex build setu...</td>\n",
       "      <td>vuesports vuejs project vuex vuex build setup ...</td>\n",
       "    </tr>\n",
       "  </tbody>\n",
       "</table>\n",
       "</div>"
      ],
      "text/plain": [
       "      language                                             readme  \\\n",
       "0  JavaScript   FCC League-For-Good\\nThis is a free, open-sour...   \n",
       "1  JavaScript   nba\\nNode.js client for nba.com API endpoints\\...   \n",
       "2  JavaScript   SportsLeague: Laravel 5.4 based system for var...   \n",
       "3  JavaScript   Team Colors\\n\\nTeam Colors is a reference of H...   \n",
       "4  JavaScript   vue-sports\\n\\nA Vue.js project\\n\\n仿凤凰新闻体育板块+赛事...   \n",
       "\n",
       "                                             stemmed  \\\n",
       "0  fcc leagueforgood thi is a free opensourc web ...   \n",
       "1  nba nodej client for nbacom api endpoint npm i...   \n",
       "2  sportsleagu laravel 54 base system for variou ...   \n",
       "3  team color team color is a refer of hex rgb cm...   \n",
       "4  vuesport a vuej project vuex vuex build setup ...   \n",
       "\n",
       "                                          lemmatized  \\\n",
       "0  fcc leagueforgood this is a free opensource we...   \n",
       "1  nba nodejs client for nbacom api endpoint npm ...   \n",
       "2  sportsleague laravel 54 based system for vario...   \n",
       "3  team color team color is a reference of hex rg...   \n",
       "4  vuesports a vuejs project vuex vuex build setu...   \n",
       "\n",
       "                                               clean  \n",
       "0  fcc leagueforgood free opensource web applicat...  \n",
       "1  nba nodejs client nbacom api endpoint npm inst...  \n",
       "2  sportsleague laravel 54 based system various s...  \n",
       "3  team color team color reference hex rgb cmyk p...  \n",
       "4  vuesports vuejs project vuex vuex build setup ...  "
      ]
     },
     "execution_count": 4,
     "metadata": {},
     "output_type": "execute_result"
    }
   ],
   "source": [
    "df.head()"
   ]
  },
  {
   "cell_type": "code",
   "execution_count": 6,
   "metadata": {},
   "outputs": [],
   "source": [
    "df.to_csv('cleaned_repos.csv', index=False)"
   ]
  },
  {
   "cell_type": "code",
   "execution_count": 7,
   "metadata": {},
   "outputs": [
    {
     "data": {
      "text/html": [
       "<div>\n",
       "<style scoped>\n",
       "    .dataframe tbody tr th:only-of-type {\n",
       "        vertical-align: middle;\n",
       "    }\n",
       "\n",
       "    .dataframe tbody tr th {\n",
       "        vertical-align: top;\n",
       "    }\n",
       "\n",
       "    .dataframe thead th {\n",
       "        text-align: right;\n",
       "    }\n",
       "</style>\n",
       "<table border=\"1\" class=\"dataframe\">\n",
       "  <thead>\n",
       "    <tr style=\"text-align: right;\">\n",
       "      <th></th>\n",
       "      <th>language</th>\n",
       "      <th>readme</th>\n",
       "      <th>stemmed</th>\n",
       "      <th>lemmatized</th>\n",
       "      <th>clean</th>\n",
       "    </tr>\n",
       "  </thead>\n",
       "  <tbody>\n",
       "    <tr>\n",
       "      <th>0</th>\n",
       "      <td>JavaScript</td>\n",
       "      <td>FCC League-For-Good\\nThis is a free, open-sour...</td>\n",
       "      <td>fcc leagueforgood thi is a free opensourc web ...</td>\n",
       "      <td>fcc leagueforgood this is a free opensource we...</td>\n",
       "      <td>fcc leagueforgood free opensource web applicat...</td>\n",
       "    </tr>\n",
       "    <tr>\n",
       "      <th>1</th>\n",
       "      <td>JavaScript</td>\n",
       "      <td>nba\\nNode.js client for nba.com API endpoints\\...</td>\n",
       "      <td>nba nodej client for nbacom api endpoint npm i...</td>\n",
       "      <td>nba nodejs client for nbacom api endpoint npm ...</td>\n",
       "      <td>nba nodejs client nbacom api endpoint npm inst...</td>\n",
       "    </tr>\n",
       "    <tr>\n",
       "      <th>2</th>\n",
       "      <td>JavaScript</td>\n",
       "      <td>SportsLeague: Laravel 5.4 based system for var...</td>\n",
       "      <td>sportsleagu laravel 54 base system for variou ...</td>\n",
       "      <td>sportsleague laravel 54 based system for vario...</td>\n",
       "      <td>sportsleague laravel 54 based system various s...</td>\n",
       "    </tr>\n",
       "    <tr>\n",
       "      <th>3</th>\n",
       "      <td>JavaScript</td>\n",
       "      <td>Team Colors\\n\\nTeam Colors is a reference of H...</td>\n",
       "      <td>team color team color is a refer of hex rgb cm...</td>\n",
       "      <td>team color team color is a reference of hex rg...</td>\n",
       "      <td>team color team color reference hex rgb cmyk p...</td>\n",
       "    </tr>\n",
       "    <tr>\n",
       "      <th>4</th>\n",
       "      <td>JavaScript</td>\n",
       "      <td>vue-sports\\n\\nA Vue.js project\\n\\n仿凤凰新闻体育板块+赛事...</td>\n",
       "      <td>vuesport a vuej project vuex vuex build setup ...</td>\n",
       "      <td>vuesports a vuejs project vuex vuex build setu...</td>\n",
       "      <td>vuesports vuejs project vuex vuex build setup ...</td>\n",
       "    </tr>\n",
       "    <tr>\n",
       "      <th>...</th>\n",
       "      <td>...</td>\n",
       "      <td>...</td>\n",
       "      <td>...</td>\n",
       "      <td>...</td>\n",
       "      <td>...</td>\n",
       "    </tr>\n",
       "    <tr>\n",
       "      <th>144</th>\n",
       "      <td>C++</td>\n",
       "      <td>PhysiBoSS\\nMultiscale simulation of multi-cell...</td>\n",
       "      <td>physiboss multiscal simul of multicellular sys...</td>\n",
       "      <td>physiboss multiscale simulation of multicellul...</td>\n",
       "      <td>physiboss multiscale simulation multicellular ...</td>\n",
       "    </tr>\n",
       "    <tr>\n",
       "      <th>145</th>\n",
       "      <td>C++</td>\n",
       "      <td>PhysiBoSS\\nMultiscale simulation of multi-cell...</td>\n",
       "      <td>physiboss multiscal simul of multicellular sys...</td>\n",
       "      <td>physiboss multiscale simulation of multicellul...</td>\n",
       "      <td>physiboss multiscale simulation multicellular ...</td>\n",
       "    </tr>\n",
       "    <tr>\n",
       "      <th>146</th>\n",
       "      <td>C++</td>\n",
       "      <td>\\n\\n\\nCore Principles\\nThese are the core prin...</td>\n",
       "      <td>core principl these are the core principl of o...</td>\n",
       "      <td>core principle these are the core principle of...</td>\n",
       "      <td>core principle core principle objectoriented a...</td>\n",
       "    </tr>\n",
       "    <tr>\n",
       "      <th>147</th>\n",
       "      <td>C++</td>\n",
       "      <td>CATH Tools  \\nProtein structure comparison too...</td>\n",
       "      <td>cath tool protein structur comparison tool suc...</td>\n",
       "      <td>cath tool protein structure comparison tool su...</td>\n",
       "      <td>cath tool protein structure comparison tool ss...</td>\n",
       "    </tr>\n",
       "    <tr>\n",
       "      <th>148</th>\n",
       "      <td>C++</td>\n",
       "      <td>skew-biology\\nSoftware for my DIY spectrometer...</td>\n",
       "      <td>skewbiolog softwar for my diy spectromet senso...</td>\n",
       "      <td>skewbiology software for my diy spectrometer s...</td>\n",
       "      <td>skewbiology software diy spectrometer sensor p...</td>\n",
       "    </tr>\n",
       "  </tbody>\n",
       "</table>\n",
       "<p>149 rows × 5 columns</p>\n",
       "</div>"
      ],
      "text/plain": [
       "        language                                             readme  \\\n",
       "0    JavaScript   FCC League-For-Good\\nThis is a free, open-sour...   \n",
       "1    JavaScript   nba\\nNode.js client for nba.com API endpoints\\...   \n",
       "2    JavaScript   SportsLeague: Laravel 5.4 based system for var...   \n",
       "3    JavaScript   Team Colors\\n\\nTeam Colors is a reference of H...   \n",
       "4    JavaScript   vue-sports\\n\\nA Vue.js project\\n\\n仿凤凰新闻体育板块+赛事...   \n",
       "..           ...                                                ...   \n",
       "144         C++   PhysiBoSS\\nMultiscale simulation of multi-cell...   \n",
       "145         C++   PhysiBoSS\\nMultiscale simulation of multi-cell...   \n",
       "146         C++   \\n\\n\\nCore Principles\\nThese are the core prin...   \n",
       "147         C++   CATH Tools  \\nProtein structure comparison too...   \n",
       "148         C++   skew-biology\\nSoftware for my DIY spectrometer...   \n",
       "\n",
       "                                               stemmed  \\\n",
       "0    fcc leagueforgood thi is a free opensourc web ...   \n",
       "1    nba nodej client for nbacom api endpoint npm i...   \n",
       "2    sportsleagu laravel 54 base system for variou ...   \n",
       "3    team color team color is a refer of hex rgb cm...   \n",
       "4    vuesport a vuej project vuex vuex build setup ...   \n",
       "..                                                 ...   \n",
       "144  physiboss multiscal simul of multicellular sys...   \n",
       "145  physiboss multiscal simul of multicellular sys...   \n",
       "146  core principl these are the core principl of o...   \n",
       "147  cath tool protein structur comparison tool suc...   \n",
       "148  skewbiolog softwar for my diy spectromet senso...   \n",
       "\n",
       "                                            lemmatized  \\\n",
       "0    fcc leagueforgood this is a free opensource we...   \n",
       "1    nba nodejs client for nbacom api endpoint npm ...   \n",
       "2    sportsleague laravel 54 based system for vario...   \n",
       "3    team color team color is a reference of hex rg...   \n",
       "4    vuesports a vuejs project vuex vuex build setu...   \n",
       "..                                                 ...   \n",
       "144  physiboss multiscale simulation of multicellul...   \n",
       "145  physiboss multiscale simulation of multicellul...   \n",
       "146  core principle these are the core principle of...   \n",
       "147  cath tool protein structure comparison tool su...   \n",
       "148  skewbiology software for my diy spectrometer s...   \n",
       "\n",
       "                                                 clean  \n",
       "0    fcc leagueforgood free opensource web applicat...  \n",
       "1    nba nodejs client nbacom api endpoint npm inst...  \n",
       "2    sportsleague laravel 54 based system various s...  \n",
       "3    team color team color reference hex rgb cmyk p...  \n",
       "4    vuesports vuejs project vuex vuex build setup ...  \n",
       "..                                                 ...  \n",
       "144  physiboss multiscale simulation multicellular ...  \n",
       "145  physiboss multiscale simulation multicellular ...  \n",
       "146  core principle core principle objectoriented a...  \n",
       "147  cath tool protein structure comparison tool ss...  \n",
       "148  skewbiology software diy spectrometer sensor p...  \n",
       "\n",
       "[149 rows x 5 columns]"
      ]
     },
     "execution_count": 7,
     "metadata": {},
     "output_type": "execute_result"
    }
   ],
   "source": [
    "pd.read_csv('cleaned_repos.csv')"
   ]
  },
  {
   "cell_type": "code",
   "execution_count": null,
   "metadata": {},
   "outputs": [],
   "source": []
  }
 ],
 "metadata": {
  "kernelspec": {
   "display_name": "Python 3",
   "language": "python",
   "name": "python3"
  },
  "language_info": {
   "codemirror_mode": {
    "name": "ipython",
    "version": 3
   },
   "file_extension": ".py",
   "mimetype": "text/x-python",
   "name": "python",
   "nbconvert_exporter": "python",
   "pygments_lexer": "ipython3",
   "version": "3.7.6"
  }
 },
 "nbformat": 4,
 "nbformat_minor": 4
}
