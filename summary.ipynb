{
 "cells": [
  {
   "cell_type": "markdown",
   "metadata": {},
   "source": [
    "# Natural Language Processing Project\n",
    "### README Repository Language Classification\n",
    "\n",
    "---\n",
    "## Executive Summary\n",
    "\n",
    "1. Scrapped README's from GitHub profiles\n",
    "2. Built models to predict if primary language is:\n",
    "    - Java\n",
    "    - JavaScript  \n",
    "    - Python\n",
    "    - C++\n",
    "3. Gradient Boost Classification model performed the best with a 76% accuracy"
   ]
  },
  {
   "cell_type": "code",
   "execution_count": null,
   "metadata": {},
   "outputs": [],
   "source": [
    "import pandas as pd\n",
    "\n",
    "import main\n",
    "import acquire\n",
    "import prepare\n",
    "import preprocessing\n",
    "import model"
   ]
  },
  {
   "cell_type": "markdown",
   "metadata": {},
   "source": [
    "## Acquire\n",
    "\n",
    "- Manually explore sites in a web browser, and identify the relevant HTML elements from sports, data engineering, artificial intelligence, space exporation and biology written in Javascript, Python, Java and C++.\n",
    "- Use the requests module to obtain the HTML from the page.\n",
    "- Use BeautifulSoup to parse the HTML and obtain the text/data that we want.\n",
    "- Parse the text of README's, language, watchers, stars, forks and commits.\n",
    "- saved data as a json file"
   ]
  },
  {
   "cell_type": "markdown",
   "metadata": {},
   "source": [
    "## Prepare\n",
    "\n",
    "- Cleaned the language, watchers, stars, forks and commits of uneccessary text and changed data types as needed\n",
    "- Normalized, tokenized, stemmed, lemmatized, and removed stop words from the README column\n",
    "- Split into Train, Validate and Test"
   ]
  },
  {
   "cell_type": "markdown",
   "metadata": {},
   "source": [
    "## Exploration\n",
    "- Turn the readme column into a panda series and create a dataframe with the word counts for each language\n",
    "- Visualize the proportion of the most frequent words by language\n",
    "- Create bigrams and trigrams\n",
    "- Create word clouds to visualize the most frequent words used\n",
    "- Find the most frequent named entities in the corpus"
   ]
  },
  {
   "cell_type": "code",
   "execution_count": null,
   "metadata": {},
   "outputs": [],
   "source": [
    "# Exploration Visual 1"
   ]
  },
  {
   "cell_type": "code",
   "execution_count": null,
   "metadata": {},
   "outputs": [],
   "source": [
    "# Exploration Visual 2"
   ]
  },
  {
   "cell_type": "code",
   "execution_count": null,
   "metadata": {},
   "outputs": [],
   "source": [
    "# Exploration Visual 3"
   ]
  },
  {
   "cell_type": "markdown",
   "metadata": {},
   "source": [
    "---\n",
    "## Modeling\n",
    "\n",
    "Our best performing model is a GradientBoostClassifier.\n",
    "1. Scaler used...\n",
    "2. Hyperparameters..."
   ]
  },
  {
   "cell_type": "code",
   "execution_count": 1,
   "metadata": {},
   "outputs": [],
   "source": [
    "# model() scores"
   ]
  },
  {
   "cell_type": "markdown",
   "metadata": {},
   "source": [
    "### Model Accuracy\n",
    "\\<Text describing the modeling process>\n",
    "1. Classification report\n",
    "2. ROC Curve"
   ]
  },
  {
   "cell_type": "code",
   "execution_count": 4,
   "metadata": {},
   "outputs": [],
   "source": [
    "# Classification report"
   ]
  },
  {
   "cell_type": "code",
   "execution_count": 3,
   "metadata": {},
   "outputs": [],
   "source": [
    "# ROC Curve"
   ]
  },
  {
   "cell_type": "markdown",
   "metadata": {},
   "source": [
    "---\n",
    "## Evaluation"
   ]
  },
  {
   "cell_type": "code",
   "execution_count": null,
   "metadata": {},
   "outputs": [],
   "source": [
    "# Model Classification Report\n",
    "# ROC Curve"
   ]
  }
 ],
 "metadata": {
  "kernelspec": {
   "display_name": "Python 3",
   "language": "python",
   "name": "python3"
  },
  "language_info": {
   "codemirror_mode": {
    "name": "ipython",
    "version": 3
   },
   "file_extension": ".py",
   "mimetype": "text/x-python",
   "name": "python",
   "nbconvert_exporter": "python",
   "pygments_lexer": "ipython3",
   "version": "3.7.9"
  }
 },
 "nbformat": 4,
 "nbformat_minor": 4
}
